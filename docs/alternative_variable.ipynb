{
 "cells": [
  {
   "cell_type": "markdown",
   "id": "39bb5e4b-b4ff-42cd-9879-c232ccd92d26",
   "metadata": {},
   "source": [
    "# More ways to access with variables\n",
    "\n",
    "The stream-lined way to input variables to `ocean_data_gateway` is demonstrated in the \"Details\" section. However, it is still possible to input variables individually by reader. That is demonstrated here."
   ]
  },
  {
   "cell_type": "code",
   "execution_count": 1,
   "id": "0a5f8715-9ec7-4c63-8dfb-053d888a8c77",
   "metadata": {},
   "outputs": [],
   "source": [
    "from cf_xarray.units import units  # isort:skip\n",
    "import pint_xarray  # isort:skip\n",
    "\n",
    "pint_xarray.unit_registry = units  # isort:skip\n",
    "import ocean_data_gateway as odg\n",
    "import pandas as pd\n",
    "import xarray as xr\n",
    "import numpy as np\n",
    "pd.set_option('display.max_rows', 5)"
   ]
  },
  {
   "cell_type": "code",
   "execution_count": 2,
   "id": "bcc98a5a-2881-44a3-b487-879d626b3e45",
   "metadata": {},
   "outputs": [],
   "source": [
    "kw = {\n",
    "    \"min_lon\": -124.0,\n",
    "    \"max_lon\": -123.0,\n",
    "    \"min_lat\": 39.0,\n",
    "    \"max_lat\": 40.0,\n",
    "    \"min_time\": '2021-4-1',\n",
    "    \"max_time\": '2021-4-2',\n",
    "}"
   ]
  },
  {
   "cell_type": "markdown",
   "id": "d0eb4c7f-68d0-4529-bce0-46f9f349c753",
   "metadata": {},
   "source": [
    "### All variables\n",
    "\n",
    "Don't input anything with the `variables` keyword, or use `'variables': None`:"
   ]
  },
  {
   "cell_type": "code",
   "execution_count": 3,
   "id": "218dd380-1038-4a5c-8675-8ce50ea08cd2",
   "metadata": {},
   "outputs": [],
   "source": [
    "kwargs = {\n",
    "          'kw': kw, \n",
    "          'approach': 'region',\n",
    "          'readers': [odg.erddap,\n",
    "                      odg.axds],\n",
    "          'variables': None\n",
    "}\n",
    "data = odg.Gateway(**kwargs)"
   ]
  },
  {
   "cell_type": "markdown",
   "id": "a9c7735c-d8f4-478a-87a4-301afd7ee436",
   "metadata": {},
   "source": [
    "### By variables(s)\n",
    "\n",
    "If no `variables` are specified for a given reader (for a `region` search), datasets with any variables will be returned from a search.\n",
    "\n",
    "However, if you want to specify a variable or variables, keep in mind that different readers have different names for variables, which is why you can't just input a variable name for all the readers. \n",
    "\n",
    "This is only relevant for the ERDDAP and Axiom readers currently (it will retain all variables in local files). The Axiom reader of type `platform2` will search by variable where the available variable names are specified, and of type `layer_group`, the `query` method will be used for variable searching.\n",
    "\n",
    "Let's say you want to search for salinity. You can input the base of the word as `variables` (\"sal\" or \"salinity\" but not \"salt\" since the checker searches for matches with the whole input variable name and \"salt\" isn't used for any variable names) and the code will make sure it exactly matches a known variable name. If it cannot match, it will throw an error with suggestions. This is not done automatically since for example \"soil_salinity\" matches for \"salinity\". You need to do this for each `known_server` for the `erddap` reader separately, and specific variables will only be used to filter for the `axds` reader for `axds_type='platform2'`. Any variable names can be input for the `axds` reader for `axds_type='layer_group'`.\n",
    "\n",
    "You can first check each reader/server individually to determine the variable names you want to use:"
   ]
  },
  {
   "cell_type": "code",
   "execution_count": 4,
   "id": "4eee29c4-bcc4-46c1-a5e6-0d54cb2df81d",
   "metadata": {},
   "outputs": [
    {
     "data": {
      "text/html": [
       "<div>\n",
       "<style scoped>\n",
       "    .dataframe tbody tr th:only-of-type {\n",
       "        vertical-align: middle;\n",
       "    }\n",
       "\n",
       "    .dataframe tbody tr th {\n",
       "        vertical-align: top;\n",
       "    }\n",
       "\n",
       "    .dataframe thead th {\n",
       "        text-align: right;\n",
       "    }\n",
       "</style>\n",
       "<table border=\"1\" class=\"dataframe\">\n",
       "  <thead>\n",
       "    <tr style=\"text-align: right;\">\n",
       "      <th></th>\n",
       "      <th>count</th>\n",
       "    </tr>\n",
       "    <tr>\n",
       "      <th>variable</th>\n",
       "      <th></th>\n",
       "    </tr>\n",
       "  </thead>\n",
       "  <tbody>\n",
       "    <tr>\n",
       "      <th>salinity</th>\n",
       "      <td>954</td>\n",
       "    </tr>\n",
       "    <tr>\n",
       "      <th>salinity_qc</th>\n",
       "      <td>954</td>\n",
       "    </tr>\n",
       "    <tr>\n",
       "      <th>...</th>\n",
       "      <td>...</td>\n",
       "    </tr>\n",
       "    <tr>\n",
       "      <th>sea_water_practical_salinity_4161sc_a_qc_agg</th>\n",
       "      <td>1</td>\n",
       "    </tr>\n",
       "    <tr>\n",
       "      <th>sea_water_practical_salinity_10091sc_a</th>\n",
       "      <td>1</td>\n",
       "    </tr>\n",
       "  </tbody>\n",
       "</table>\n",
       "<p>1148 rows × 1 columns</p>\n",
       "</div>"
      ],
      "text/plain": [
       "                                              count\n",
       "variable                                           \n",
       "salinity                                        954\n",
       "salinity_qc                                     954\n",
       "...                                             ...\n",
       "sea_water_practical_salinity_4161sc_a_qc_agg      1\n",
       "sea_water_practical_salinity_10091sc_a            1\n",
       "\n",
       "[1148 rows x 1 columns]"
      ]
     },
     "execution_count": 4,
     "metadata": {},
     "output_type": "execute_result"
    }
   ],
   "source": [
    "# IOOS ERDDAP\n",
    "server = 'http://erddap.sensors.ioos.us/erddap'\n",
    "odg.search_variables(server, 'sal')"
   ]
  },
  {
   "cell_type": "code",
   "execution_count": 5,
   "id": "7b3cf3ab-5e66-40b2-a034-d5d8200a8ddb",
   "metadata": {},
   "outputs": [
    {
     "data": {
      "text/html": [
       "<div>\n",
       "<style scoped>\n",
       "    .dataframe tbody tr th:only-of-type {\n",
       "        vertical-align: middle;\n",
       "    }\n",
       "\n",
       "    .dataframe tbody tr th {\n",
       "        vertical-align: top;\n",
       "    }\n",
       "\n",
       "    .dataframe thead th {\n",
       "        text-align: right;\n",
       "    }\n",
       "</style>\n",
       "<table border=\"1\" class=\"dataframe\">\n",
       "  <thead>\n",
       "    <tr style=\"text-align: right;\">\n",
       "      <th></th>\n",
       "      <th>count</th>\n",
       "    </tr>\n",
       "    <tr>\n",
       "      <th>variable</th>\n",
       "      <th></th>\n",
       "    </tr>\n",
       "  </thead>\n",
       "  <tbody>\n",
       "    <tr>\n",
       "      <th>salinity</th>\n",
       "      <td>73</td>\n",
       "    </tr>\n",
       "    <tr>\n",
       "      <th>salt</th>\n",
       "      <td>4</td>\n",
       "    </tr>\n",
       "    <tr>\n",
       "      <th>...</th>\n",
       "      <td>...</td>\n",
       "    </tr>\n",
       "    <tr>\n",
       "      <th>stop_salinity</th>\n",
       "      <td>1</td>\n",
       "    </tr>\n",
       "    <tr>\n",
       "      <th>ts_salinity</th>\n",
       "      <td>1</td>\n",
       "    </tr>\n",
       "  </tbody>\n",
       "</table>\n",
       "<p>14 rows × 1 columns</p>\n",
       "</div>"
      ],
      "text/plain": [
       "               count\n",
       "variable            \n",
       "salinity          73\n",
       "salt               4\n",
       "...              ...\n",
       "stop_salinity      1\n",
       "ts_salinity        1\n",
       "\n",
       "[14 rows x 1 columns]"
      ]
     },
     "execution_count": 5,
     "metadata": {},
     "output_type": "execute_result"
    }
   ],
   "source": [
    "# Coastwatch ERDDAP\n",
    "server = 'http://coastwatch.pfeg.noaa.gov/erddap'\n",
    "odg.search_variables(server, 'sal')"
   ]
  },
  {
   "cell_type": "code",
   "execution_count": 6,
   "id": "14be151a-9044-43d6-88f0-d33de118a320",
   "metadata": {},
   "outputs": [
    {
     "data": {
      "text/html": [
       "<div>\n",
       "<style scoped>\n",
       "    .dataframe tbody tr th:only-of-type {\n",
       "        vertical-align: middle;\n",
       "    }\n",
       "\n",
       "    .dataframe tbody tr th {\n",
       "        vertical-align: top;\n",
       "    }\n",
       "\n",
       "    .dataframe thead th {\n",
       "        text-align: right;\n",
       "    }\n",
       "</style>\n",
       "<table border=\"1\" class=\"dataframe\">\n",
       "  <thead>\n",
       "    <tr style=\"text-align: right;\">\n",
       "      <th></th>\n",
       "      <th>count</th>\n",
       "    </tr>\n",
       "    <tr>\n",
       "      <th>variable</th>\n",
       "      <th></th>\n",
       "    </tr>\n",
       "  </thead>\n",
       "  <tbody>\n",
       "    <tr>\n",
       "      <th>Salinity</th>\n",
       "      <td>3204</td>\n",
       "    </tr>\n",
       "    <tr>\n",
       "      <th>Soil Salinity</th>\n",
       "      <td>622</td>\n",
       "    </tr>\n",
       "  </tbody>\n",
       "</table>\n",
       "</div>"
      ],
      "text/plain": [
       "               count\n",
       "variable            \n",
       "Salinity        3204\n",
       "Soil Salinity    622"
      ]
     },
     "execution_count": 6,
     "metadata": {},
     "output_type": "execute_result"
    }
   ],
   "source": [
    "# axds 'platform2'\n",
    "odg.search_variables('axds', 'sal')"
   ]
  },
  {
   "cell_type": "markdown",
   "id": "25083f80-e2f5-4c12-aa0c-13acd643074d",
   "metadata": {},
   "source": [
    "Once you have selected variables that match, the code won't complain anymore."
   ]
  },
  {
   "cell_type": "code",
   "execution_count": 7,
   "id": "70549437-23cb-47d8-9bfa-8710aa8fc79c",
   "metadata": {},
   "outputs": [],
   "source": [
    "kwargs = {\n",
    "          'kw': kw, \n",
    "          'approach': 'region',\n",
    "          'readers': [odg.erddap,\n",
    "                      odg.axds],\n",
    "\n",
    "          'erddap': {\n",
    "                          'known_server': ['coastwatch','ioos'],\n",
    "                           'variables': [['salinity', 'sea_water_salinity'],\n",
    "                                         ['salinity', 'sea_water_practical_salinity']]\n",
    "          },\n",
    "          'axds': {\n",
    "                          'axds_type': ['platform2','layer_group'],\n",
    "                         'variables': ['Salinity',\n",
    "                                       'salinity'  # this one can be called anything that might make a match\n",
    "                                      ]},\n",
    "}\n",
    "\n",
    "data = odg.Gateway(**kwargs)"
   ]
  },
  {
   "cell_type": "code",
   "execution_count": 8,
   "id": "f72512b9-e764-42d4-98f3-40aff3687cd6",
   "metadata": {},
   "outputs": [
    {
     "data": {
      "text/plain": [
       "['d359748a-fe78-11e7-8128-0023aeec7b98',\n",
       " '5104d464-8a30-4720-aeb7-57e801844e6e',\n",
       " '3261285c-e3c9-45fd-b777-e6d681a3eaad']"
      ]
     },
     "execution_count": 8,
     "metadata": {},
     "output_type": "execute_result"
    }
   ],
   "source": [
    "data.dataset_ids"
   ]
  },
  {
   "cell_type": "markdown",
   "id": "c1fbe1da-29ab-4ad6-b1ba-3a613c888c09",
   "metadata": {},
   "source": [
    "### Other actions with variables\n",
    "\n",
    "Demonstrated here are the available functions to work with variables. Currently the ways to call the individiual libraries aren't pretty but they'll work. Note that the number of times a variable is used in the system is also included under \"count\" to see what the popular names are (many are not widely used). \n"
   ]
  },
  {
   "cell_type": "markdown",
   "id": "2786b71b-91a2-4bbc-8a1b-9d1e1d7a8201",
   "metadata": {},
   "source": [
    "#### All available variables\n",
    "\n",
    "Return all variables for the two ERDDAP `known_server`s, then for the Axiom reader `axds_type='platform2'`."
   ]
  },
  {
   "cell_type": "code",
   "execution_count": 9,
   "id": "df29fd98-8a13-4673-b103-63d8c3a3d2ee",
   "metadata": {},
   "outputs": [
    {
     "data": {
      "text/html": [
       "<div>\n",
       "<style scoped>\n",
       "    .dataframe tbody tr th:only-of-type {\n",
       "        vertical-align: middle;\n",
       "    }\n",
       "\n",
       "    .dataframe tbody tr th {\n",
       "        vertical-align: top;\n",
       "    }\n",
       "\n",
       "    .dataframe thead th {\n",
       "        text-align: right;\n",
       "    }\n",
       "</style>\n",
       "<table border=\"1\" class=\"dataframe\">\n",
       "  <thead>\n",
       "    <tr style=\"text-align: right;\">\n",
       "      <th></th>\n",
       "      <th>count</th>\n",
       "    </tr>\n",
       "    <tr>\n",
       "      <th>variable</th>\n",
       "      <th></th>\n",
       "    </tr>\n",
       "  </thead>\n",
       "  <tbody>\n",
       "    <tr>\n",
       "      <th>air_pressure</th>\n",
       "      <td>4028</td>\n",
       "    </tr>\n",
       "    <tr>\n",
       "      <th>air_pressure_10011met_a</th>\n",
       "      <td>2</td>\n",
       "    </tr>\n",
       "    <tr>\n",
       "      <th>...</th>\n",
       "      <td>...</td>\n",
       "    </tr>\n",
       "    <tr>\n",
       "      <th>wmo_id</th>\n",
       "      <td>954</td>\n",
       "    </tr>\n",
       "    <tr>\n",
       "      <th>z</th>\n",
       "      <td>37377</td>\n",
       "    </tr>\n",
       "  </tbody>\n",
       "</table>\n",
       "<p>20246 rows × 1 columns</p>\n",
       "</div>"
      ],
      "text/plain": [
       "                         count\n",
       "variable                      \n",
       "air_pressure              4028\n",
       "air_pressure_10011met_a      2\n",
       "...                        ...\n",
       "wmo_id                     954\n",
       "z                        37377\n",
       "\n",
       "[20246 rows x 1 columns]"
      ]
     },
     "execution_count": 9,
     "metadata": {},
     "output_type": "execute_result"
    }
   ],
   "source": [
    "# IOOS ERDDAP\n",
    "server = 'http://erddap.sensors.ioos.us/erddap'\n",
    "odg.all_variables(server)"
   ]
  },
  {
   "cell_type": "code",
   "execution_count": 10,
   "id": "a2130b04-e2fb-4085-ad53-911f4b2598c1",
   "metadata": {},
   "outputs": [
    {
     "data": {
      "text/html": [
       "<div>\n",
       "<style scoped>\n",
       "    .dataframe tbody tr th:only-of-type {\n",
       "        vertical-align: middle;\n",
       "    }\n",
       "\n",
       "    .dataframe tbody tr th {\n",
       "        vertical-align: top;\n",
       "    }\n",
       "\n",
       "    .dataframe thead th {\n",
       "        text-align: right;\n",
       "    }\n",
       "</style>\n",
       "<table border=\"1\" class=\"dataframe\">\n",
       "  <thead>\n",
       "    <tr style=\"text-align: right;\">\n",
       "      <th></th>\n",
       "      <th>count</th>\n",
       "    </tr>\n",
       "    <tr>\n",
       "      <th>variable</th>\n",
       "      <th></th>\n",
       "    </tr>\n",
       "  </thead>\n",
       "  <tbody>\n",
       "    <tr>\n",
       "      <th>abund_m3</th>\n",
       "      <td>2</td>\n",
       "    </tr>\n",
       "    <tr>\n",
       "      <th>ac_line</th>\n",
       "      <td>1</td>\n",
       "    </tr>\n",
       "    <tr>\n",
       "      <th>...</th>\n",
       "      <td>...</td>\n",
       "    </tr>\n",
       "    <tr>\n",
       "      <th>z_mean</th>\n",
       "      <td>2</td>\n",
       "    </tr>\n",
       "    <tr>\n",
       "      <th>zlev</th>\n",
       "      <td>6</td>\n",
       "    </tr>\n",
       "  </tbody>\n",
       "</table>\n",
       "<p>1451 rows × 1 columns</p>\n",
       "</div>"
      ],
      "text/plain": [
       "          count\n",
       "variable       \n",
       "abund_m3      2\n",
       "ac_line       1\n",
       "...         ...\n",
       "z_mean        2\n",
       "zlev          6\n",
       "\n",
       "[1451 rows x 1 columns]"
      ]
     },
     "execution_count": 10,
     "metadata": {},
     "output_type": "execute_result"
    }
   ],
   "source": [
    "# Coastwatch ERDDAP\n",
    "server = 'http://coastwatch.pfeg.noaa.gov/erddap'\n",
    "odg.all_variables(server)"
   ]
  },
  {
   "cell_type": "markdown",
   "id": "02a41838-712c-4fda-8312-250d61ce2cde",
   "metadata": {},
   "source": [
    "The Axiom reader variables are for `axds_type='platform2'` not `axds_type='layer_group` since the latter are more unique grid products that don't conform well."
   ]
  },
  {
   "cell_type": "code",
   "execution_count": 11,
   "id": "6a353315-4616-4c7b-a858-d961f74248eb",
   "metadata": {},
   "outputs": [
    {
     "data": {
      "text/html": [
       "<div>\n",
       "<style scoped>\n",
       "    .dataframe tbody tr th:only-of-type {\n",
       "        vertical-align: middle;\n",
       "    }\n",
       "\n",
       "    .dataframe tbody tr th {\n",
       "        vertical-align: top;\n",
       "    }\n",
       "\n",
       "    .dataframe thead th {\n",
       "        text-align: right;\n",
       "    }\n",
       "</style>\n",
       "<table border=\"1\" class=\"dataframe\">\n",
       "  <thead>\n",
       "    <tr style=\"text-align: right;\">\n",
       "      <th></th>\n",
       "      <th>count</th>\n",
       "    </tr>\n",
       "    <tr>\n",
       "      <th>variable</th>\n",
       "      <th></th>\n",
       "    </tr>\n",
       "  </thead>\n",
       "  <tbody>\n",
       "    <tr>\n",
       "      <th>Ammonium</th>\n",
       "      <td>23</td>\n",
       "    </tr>\n",
       "    <tr>\n",
       "      <th>Atmospheric Pressure: Air Pressure at Sea Level</th>\n",
       "      <td>362</td>\n",
       "    </tr>\n",
       "    <tr>\n",
       "      <th>...</th>\n",
       "      <td>...</td>\n",
       "    </tr>\n",
       "    <tr>\n",
       "      <th>Winds: at 10 m</th>\n",
       "      <td>18</td>\n",
       "    </tr>\n",
       "    <tr>\n",
       "      <th>pH</th>\n",
       "      <td>965</td>\n",
       "    </tr>\n",
       "  </tbody>\n",
       "</table>\n",
       "<p>200 rows × 1 columns</p>\n",
       "</div>"
      ],
      "text/plain": [
       "                                                 count\n",
       "variable                                              \n",
       "Ammonium                                            23\n",
       "Atmospheric Pressure: Air Pressure at Sea Level    362\n",
       "...                                                ...\n",
       "Winds: at 10 m                                      18\n",
       "pH                                                 965\n",
       "\n",
       "[200 rows x 1 columns]"
      ]
     },
     "execution_count": 11,
     "metadata": {},
     "output_type": "execute_result"
    }
   ],
   "source": [
    "# axds 'platform2'\n",
    "odg.all_variables('axds')"
   ]
  },
  {
   "cell_type": "markdown",
   "id": "859d2b00-c1bc-4e49-a398-c54978c09f61",
   "metadata": {},
   "source": [
    "#### All available variables, sorted by count"
   ]
  },
  {
   "cell_type": "code",
   "execution_count": 12,
   "id": "4142e98e-f355-4b63-868a-24705bebee7f",
   "metadata": {},
   "outputs": [
    {
     "data": {
      "text/html": [
       "<div>\n",
       "<style scoped>\n",
       "    .dataframe tbody tr th:only-of-type {\n",
       "        vertical-align: middle;\n",
       "    }\n",
       "\n",
       "    .dataframe tbody tr th {\n",
       "        vertical-align: top;\n",
       "    }\n",
       "\n",
       "    .dataframe thead th {\n",
       "        text-align: right;\n",
       "    }\n",
       "</style>\n",
       "<table border=\"1\" class=\"dataframe\">\n",
       "  <thead>\n",
       "    <tr style=\"text-align: right;\">\n",
       "      <th></th>\n",
       "      <th>count</th>\n",
       "    </tr>\n",
       "    <tr>\n",
       "      <th>variable</th>\n",
       "      <th></th>\n",
       "    </tr>\n",
       "  </thead>\n",
       "  <tbody>\n",
       "    <tr>\n",
       "      <th>time</th>\n",
       "      <td>38331</td>\n",
       "    </tr>\n",
       "    <tr>\n",
       "      <th>longitude</th>\n",
       "      <td>38331</td>\n",
       "    </tr>\n",
       "    <tr>\n",
       "      <th>...</th>\n",
       "      <td>...</td>\n",
       "    </tr>\n",
       "    <tr>\n",
       "      <th>sea_surface_wave_from_direction_elw11b2t01wv_qc_tests</th>\n",
       "      <td>1</td>\n",
       "    </tr>\n",
       "    <tr>\n",
       "      <th>sea_water_pressure_7263arc_a</th>\n",
       "      <td>1</td>\n",
       "    </tr>\n",
       "  </tbody>\n",
       "</table>\n",
       "<p>20246 rows × 1 columns</p>\n",
       "</div>"
      ],
      "text/plain": [
       "                                                    count\n",
       "variable                                                 \n",
       "time                                                38331\n",
       "longitude                                           38331\n",
       "...                                                   ...\n",
       "sea_surface_wave_from_direction_elw11b2t01wv_qc...      1\n",
       "sea_water_pressure_7263arc_a                            1\n",
       "\n",
       "[20246 rows x 1 columns]"
      ]
     },
     "execution_count": 12,
     "metadata": {},
     "output_type": "execute_result"
    }
   ],
   "source": [
    "# IOOS ERDDAP\n",
    "server = 'http://erddap.sensors.ioos.us/erddap'\n",
    "odg.search_variables(server, '')"
   ]
  },
  {
   "cell_type": "code",
   "execution_count": 13,
   "id": "9be63f1d-1828-442f-bb04-3bbc9352d7be",
   "metadata": {},
   "outputs": [
    {
     "data": {
      "text/html": [
       "<div>\n",
       "<style scoped>\n",
       "    .dataframe tbody tr th:only-of-type {\n",
       "        vertical-align: middle;\n",
       "    }\n",
       "\n",
       "    .dataframe tbody tr th {\n",
       "        vertical-align: top;\n",
       "    }\n",
       "\n",
       "    .dataframe thead th {\n",
       "        text-align: right;\n",
       "    }\n",
       "</style>\n",
       "<table border=\"1\" class=\"dataframe\">\n",
       "  <thead>\n",
       "    <tr style=\"text-align: right;\">\n",
       "      <th></th>\n",
       "      <th>count</th>\n",
       "    </tr>\n",
       "    <tr>\n",
       "      <th>variable</th>\n",
       "      <th></th>\n",
       "    </tr>\n",
       "  </thead>\n",
       "  <tbody>\n",
       "    <tr>\n",
       "      <th>time</th>\n",
       "      <td>1637</td>\n",
       "    </tr>\n",
       "    <tr>\n",
       "      <th>longitude</th>\n",
       "      <td>1352</td>\n",
       "    </tr>\n",
       "    <tr>\n",
       "      <th>...</th>\n",
       "      <td>...</td>\n",
       "    </tr>\n",
       "    <tr>\n",
       "      <th>haliotis_fulgens_stderr</th>\n",
       "      <td>1</td>\n",
       "    </tr>\n",
       "    <tr>\n",
       "      <th>observationuri</th>\n",
       "      <td>1</td>\n",
       "    </tr>\n",
       "  </tbody>\n",
       "</table>\n",
       "<p>1451 rows × 1 columns</p>\n",
       "</div>"
      ],
      "text/plain": [
       "                         count\n",
       "variable                      \n",
       "time                      1637\n",
       "longitude                 1352\n",
       "...                        ...\n",
       "haliotis_fulgens_stderr      1\n",
       "observationuri               1\n",
       "\n",
       "[1451 rows x 1 columns]"
      ]
     },
     "execution_count": 13,
     "metadata": {},
     "output_type": "execute_result"
    }
   ],
   "source": [
    "# Coastwatch ERDDAP\n",
    "server = 'http://coastwatch.pfeg.noaa.gov/erddap'\n",
    "odg.search_variables(server, '')"
   ]
  },
  {
   "cell_type": "code",
   "execution_count": 14,
   "id": "c7fcc144-5027-49d0-8b97-d635e0db9526",
   "metadata": {},
   "outputs": [
    {
     "data": {
      "text/html": [
       "<div>\n",
       "<style scoped>\n",
       "    .dataframe tbody tr th:only-of-type {\n",
       "        vertical-align: middle;\n",
       "    }\n",
       "\n",
       "    .dataframe tbody tr th {\n",
       "        vertical-align: top;\n",
       "    }\n",
       "\n",
       "    .dataframe thead th {\n",
       "        text-align: right;\n",
       "    }\n",
       "</style>\n",
       "<table border=\"1\" class=\"dataframe\">\n",
       "  <thead>\n",
       "    <tr style=\"text-align: right;\">\n",
       "      <th></th>\n",
       "      <th>count</th>\n",
       "    </tr>\n",
       "    <tr>\n",
       "      <th>variable</th>\n",
       "      <th></th>\n",
       "    </tr>\n",
       "  </thead>\n",
       "  <tbody>\n",
       "    <tr>\n",
       "      <th>Stream Height</th>\n",
       "      <td>19758</td>\n",
       "    </tr>\n",
       "    <tr>\n",
       "      <th>Water Surface above Datum</th>\n",
       "      <td>19489</td>\n",
       "    </tr>\n",
       "    <tr>\n",
       "      <th>...</th>\n",
       "      <td>...</td>\n",
       "    </tr>\n",
       "    <tr>\n",
       "      <th>CO2: PPM of Carbon Dioxide in Air in Dry Gas</th>\n",
       "      <td>1</td>\n",
       "    </tr>\n",
       "    <tr>\n",
       "      <th>Evaporation Rate</th>\n",
       "      <td>1</td>\n",
       "    </tr>\n",
       "  </tbody>\n",
       "</table>\n",
       "<p>200 rows × 1 columns</p>\n",
       "</div>"
      ],
      "text/plain": [
       "                                              count\n",
       "variable                                           \n",
       "Stream Height                                 19758\n",
       "Water Surface above Datum                     19489\n",
       "...                                             ...\n",
       "CO2: PPM of Carbon Dioxide in Air in Dry Gas      1\n",
       "Evaporation Rate                                  1\n",
       "\n",
       "[200 rows x 1 columns]"
      ]
     },
     "execution_count": 14,
     "metadata": {},
     "output_type": "execute_result"
    }
   ],
   "source": [
    "# axds 'platform2'\n",
    "odg.search_variables('axds', '')"
   ]
  },
  {
   "cell_type": "markdown",
   "id": "faa603cb-267b-415c-ba96-23c2833b3b7b",
   "metadata": {},
   "source": [
    "#### Variables search, sorted by count"
   ]
  },
  {
   "cell_type": "code",
   "execution_count": 15,
   "id": "c93dd311-0806-4b24-a298-1c47bdc1138e",
   "metadata": {},
   "outputs": [
    {
     "data": {
      "text/html": [
       "<div>\n",
       "<style scoped>\n",
       "    .dataframe tbody tr th:only-of-type {\n",
       "        vertical-align: middle;\n",
       "    }\n",
       "\n",
       "    .dataframe tbody tr th {\n",
       "        vertical-align: top;\n",
       "    }\n",
       "\n",
       "    .dataframe thead th {\n",
       "        text-align: right;\n",
       "    }\n",
       "</style>\n",
       "<table border=\"1\" class=\"dataframe\">\n",
       "  <thead>\n",
       "    <tr style=\"text-align: right;\">\n",
       "      <th></th>\n",
       "      <th>count</th>\n",
       "    </tr>\n",
       "    <tr>\n",
       "      <th>variable</th>\n",
       "      <th></th>\n",
       "    </tr>\n",
       "  </thead>\n",
       "  <tbody>\n",
       "    <tr>\n",
       "      <th>salinity</th>\n",
       "      <td>954</td>\n",
       "    </tr>\n",
       "    <tr>\n",
       "      <th>salinity_qc</th>\n",
       "      <td>954</td>\n",
       "    </tr>\n",
       "    <tr>\n",
       "      <th>...</th>\n",
       "      <td>...</td>\n",
       "    </tr>\n",
       "    <tr>\n",
       "      <th>sea_water_practical_salinity_4161sc_a_qc_agg</th>\n",
       "      <td>1</td>\n",
       "    </tr>\n",
       "    <tr>\n",
       "      <th>sea_water_practical_salinity_10091sc_a</th>\n",
       "      <td>1</td>\n",
       "    </tr>\n",
       "  </tbody>\n",
       "</table>\n",
       "<p>1148 rows × 1 columns</p>\n",
       "</div>"
      ],
      "text/plain": [
       "                                              count\n",
       "variable                                           \n",
       "salinity                                        954\n",
       "salinity_qc                                     954\n",
       "...                                             ...\n",
       "sea_water_practical_salinity_4161sc_a_qc_agg      1\n",
       "sea_water_practical_salinity_10091sc_a            1\n",
       "\n",
       "[1148 rows x 1 columns]"
      ]
     },
     "execution_count": 15,
     "metadata": {},
     "output_type": "execute_result"
    }
   ],
   "source": [
    "# IOOS ERDDAP\n",
    "server = 'http://erddap.sensors.ioos.us/erddap'\n",
    "odg.search_variables(server, 'sal')"
   ]
  },
  {
   "cell_type": "code",
   "execution_count": 16,
   "id": "003094dc-7742-4e55-8b6f-20efd880e20d",
   "metadata": {},
   "outputs": [
    {
     "data": {
      "text/html": [
       "<div>\n",
       "<style scoped>\n",
       "    .dataframe tbody tr th:only-of-type {\n",
       "        vertical-align: middle;\n",
       "    }\n",
       "\n",
       "    .dataframe tbody tr th {\n",
       "        vertical-align: top;\n",
       "    }\n",
       "\n",
       "    .dataframe thead th {\n",
       "        text-align: right;\n",
       "    }\n",
       "</style>\n",
       "<table border=\"1\" class=\"dataframe\">\n",
       "  <thead>\n",
       "    <tr style=\"text-align: right;\">\n",
       "      <th></th>\n",
       "      <th>count</th>\n",
       "    </tr>\n",
       "    <tr>\n",
       "      <th>variable</th>\n",
       "      <th></th>\n",
       "    </tr>\n",
       "  </thead>\n",
       "  <tbody>\n",
       "    <tr>\n",
       "      <th>salinity</th>\n",
       "      <td>73</td>\n",
       "    </tr>\n",
       "    <tr>\n",
       "      <th>salt</th>\n",
       "      <td>4</td>\n",
       "    </tr>\n",
       "    <tr>\n",
       "      <th>...</th>\n",
       "      <td>...</td>\n",
       "    </tr>\n",
       "    <tr>\n",
       "      <th>stop_salinity</th>\n",
       "      <td>1</td>\n",
       "    </tr>\n",
       "    <tr>\n",
       "      <th>ts_salinity</th>\n",
       "      <td>1</td>\n",
       "    </tr>\n",
       "  </tbody>\n",
       "</table>\n",
       "<p>14 rows × 1 columns</p>\n",
       "</div>"
      ],
      "text/plain": [
       "               count\n",
       "variable            \n",
       "salinity          73\n",
       "salt               4\n",
       "...              ...\n",
       "stop_salinity      1\n",
       "ts_salinity        1\n",
       "\n",
       "[14 rows x 1 columns]"
      ]
     },
     "execution_count": 16,
     "metadata": {},
     "output_type": "execute_result"
    }
   ],
   "source": [
    "# Coastwatch ERDDAP\n",
    "server = 'http://coastwatch.pfeg.noaa.gov/erddap'\n",
    "odg.search_variables(server, 'sal')"
   ]
  },
  {
   "cell_type": "code",
   "execution_count": 17,
   "id": "2dfa7abc-f5c5-4fd1-8970-ab0326381ef5",
   "metadata": {},
   "outputs": [
    {
     "data": {
      "text/html": [
       "<div>\n",
       "<style scoped>\n",
       "    .dataframe tbody tr th:only-of-type {\n",
       "        vertical-align: middle;\n",
       "    }\n",
       "\n",
       "    .dataframe tbody tr th {\n",
       "        vertical-align: top;\n",
       "    }\n",
       "\n",
       "    .dataframe thead th {\n",
       "        text-align: right;\n",
       "    }\n",
       "</style>\n",
       "<table border=\"1\" class=\"dataframe\">\n",
       "  <thead>\n",
       "    <tr style=\"text-align: right;\">\n",
       "      <th></th>\n",
       "      <th>count</th>\n",
       "    </tr>\n",
       "    <tr>\n",
       "      <th>variable</th>\n",
       "      <th></th>\n",
       "    </tr>\n",
       "  </thead>\n",
       "  <tbody>\n",
       "    <tr>\n",
       "      <th>Salinity</th>\n",
       "      <td>3204</td>\n",
       "    </tr>\n",
       "    <tr>\n",
       "      <th>Soil Salinity</th>\n",
       "      <td>622</td>\n",
       "    </tr>\n",
       "  </tbody>\n",
       "</table>\n",
       "</div>"
      ],
      "text/plain": [
       "               count\n",
       "variable            \n",
       "Salinity        3204\n",
       "Soil Salinity    622"
      ]
     },
     "execution_count": 17,
     "metadata": {},
     "output_type": "execute_result"
    }
   ],
   "source": [
    "# axds 'platform2'\n",
    "odg.search_variables('axds', 'sal')"
   ]
  },
  {
   "cell_type": "markdown",
   "id": "210d2285-e3d2-4d79-b462-456a71d5fcfe",
   "metadata": {},
   "source": [
    "#### Check variables\n",
    "\n",
    "And finally you can check to make sure you have good variables. No news is good news in this. Reminder that you don't check for axds reader for axds_type='layer_group' because that is searched for in the database just by name as a query."
   ]
  },
  {
   "cell_type": "code",
   "execution_count": 18,
   "id": "8f05b538-47a1-4365-92d6-ccc80cb4b038",
   "metadata": {},
   "outputs": [],
   "source": [
    "# IOOS ERDDAP\n",
    "server = 'http://erddap.sensors.ioos.us/erddap'\n",
    "odg.check_variables(server, ['salinity', 'sea_water_practical_salinity'])"
   ]
  },
  {
   "cell_type": "code",
   "execution_count": 19,
   "id": "acd4fe1b-e3f1-47e4-be38-201ae2f3c37d",
   "metadata": {},
   "outputs": [],
   "source": [
    "# Coastwatch ERDDAP\n",
    "server = 'http://coastwatch.pfeg.noaa.gov/erddap'\n",
    "odg.check_variables(server, ['salinity', 'sea_water_salinity'])"
   ]
  },
  {
   "cell_type": "code",
   "execution_count": 20,
   "id": "9443b953-a6e6-4c17-a286-d205161a6c39",
   "metadata": {},
   "outputs": [],
   "source": [
    "# axds 'platform2'\n",
    "odg.check_variables('axds', 'Salinity')"
   ]
  }
 ],
 "metadata": {
  "kernelspec": {
   "display_name": "Python 3",
   "language": "python",
   "name": "python3"
  },
  "language_info": {
   "codemirror_mode": {
    "name": "ipython",
    "version": 3
   },
   "file_extension": ".py",
   "mimetype": "text/x-python",
   "name": "python",
   "nbconvert_exporter": "python",
   "pygments_lexer": "ipython3",
   "version": "3.9.4"
  }
 },
 "nbformat": 4,
 "nbformat_minor": 5
}
