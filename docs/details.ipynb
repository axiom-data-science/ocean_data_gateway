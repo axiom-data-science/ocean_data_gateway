{
 "cells": [
  {
   "cell_type": "markdown",
   "id": "0a9dfc72-eb64-4059-bb01-9a96b675a722",
   "metadata": {},
   "source": [
    "# Detailed usage"
   ]
  },
  {
   "cell_type": "code",
   "execution_count": 1,
   "id": "1353bc4d-5ba8-4c3c-90cd-8c55c9fbc854",
   "metadata": {},
   "outputs": [],
   "source": [
    "import ocean_data_gateway as odg\n",
    "import pandas as pd\n",
    "pd.set_option('display.max_rows', 5)"
   ]
  },
  {
   "cell_type": "markdown",
   "id": "9524f242-cda3-44e6-a570-0b706c152f23",
   "metadata": {},
   "source": [
    "## General Options"
   ]
  },
  {
   "cell_type": "code",
   "execution_count": 2,
   "id": "ce9e8b2a-630e-4326-a57a-bec7d9c5d1f1",
   "metadata": {},
   "outputs": [],
   "source": [
    "kw = {\n",
    "    \"min_lon\": -124.0,\n",
    "    \"max_lon\": -123.0,\n",
    "    \"min_lat\": 39.0,\n",
    "    \"max_lat\": 40.0,\n",
    "    \"min_time\": '2021-4-1',\n",
    "    \"max_time\": '2021-4-2',\n",
    "}"
   ]
  },
  {
   "cell_type": "markdown",
   "id": "fa2ab1ae-ca08-43b1-b2a8-afa1f3ddcc9d",
   "metadata": {},
   "source": [
    "### Parallel\n",
    "\n",
    "You can control readers individually as needed. For example, you could input the keyword `parallel`, which every reader accepts, per individual reader (in case you want different values for different readers), or you can input it for all readers by including it in `kwargs` generally. It runs in parallel using the `joblib` `Parallel` and `delayed` modules with `multiprocesses` — running loops on different cores."
   ]
  },
  {
   "cell_type": "code",
   "execution_count": 3,
   "id": "5a33d53d-e97e-4a01-8e76-39e1a635797f",
   "metadata": {},
   "outputs": [],
   "source": [
    "kwargs = {\n",
    "          'kw': kw, \n",
    "          'approach': 'region',\n",
    "          'parallel': True,    \n",
    "          'erddap': {\n",
    "                           'known_server': 'ioos',\n",
    "#                            'parallel': False,\n",
    "                           'variables': 'salinity',\n",
    "          },\n",
    "          'axds': {'catalog_name': None,\n",
    "#                          'parallel': True,\n",
    "                         'axds_type': 'platform2',\n",
    "                         'variables': 'Salinity'},\n",
    "          }\n",
    "data = odg.Gateway(**kwargs)"
   ]
  },
  {
   "cell_type": "markdown",
   "id": "151ab456-f32e-4e15-96c0-98ae79bff9c5",
   "metadata": {},
   "source": [
    "### Reader Choice\n",
    "\n",
    "Your reader choices can be selected as follows, where `odg.erddap` connects to ERDDAP servers, the `odg.axds` connects to Axiom databases, and the `odg.local` enables easy local file read-in. If you don't input any reader, it will use all of them. Alternatively you can input some subset."
   ]
  },
  {
   "cell_type": "code",
   "execution_count": 4,
   "id": "8243277b-76e4-4b50-8da7-a5758b2673ff",
   "metadata": {},
   "outputs": [],
   "source": [
    "readers = [odg.erddap,\n",
    "           odg.axds,\n",
    "           odg.local]"
   ]
  },
  {
   "cell_type": "markdown",
   "id": "5b054886-e94e-4b93-b399-97bbb7730fcb",
   "metadata": {},
   "source": [
    "Use only ERDDAP reader and Axiom reader:"
   ]
  },
  {
   "cell_type": "code",
   "execution_count": 5,
   "id": "4edb6b15-906a-4aef-bbe3-a889fb1c0d37",
   "metadata": {},
   "outputs": [],
   "source": [
    "data = odg.Gateway(kw=kw, approach='region', \n",
    "                   readers=[odg.erddap,\n",
    "                            odg.axds])"
   ]
  },
  {
   "cell_type": "markdown",
   "id": "b5345812-af6a-4949-bead-9e607c91a313",
   "metadata": {},
   "source": [
    "## Region\n",
    "\n",
    "Search by time/space region."
   ]
  },
  {
   "cell_type": "markdown",
   "id": "af92f72a-2afc-4b6a-9f61-530903837e2f",
   "metadata": {},
   "source": [
    "### All variables\n",
    "\n",
    "Don't input anything with the `variables` keyword, or use `'variables': None`:"
   ]
  },
  {
   "cell_type": "code",
   "execution_count": 6,
   "id": "7e343236-a472-4b9b-9a5c-ed775ce20d5a",
   "metadata": {},
   "outputs": [],
   "source": [
    "kwargs = {\n",
    "          'kw': kw, \n",
    "          'approach': 'region',\n",
    "          'readers': [odg.erddap,\n",
    "                      odg.axds],\n",
    "          'variables': None\n",
    "}\n",
    "data = odg.Gateway(**kwargs)"
   ]
  },
  {
   "cell_type": "markdown",
   "id": "dfd88a60-7491-4a1d-85eb-a2d0a2dea5cf",
   "metadata": {},
   "source": [
    "### By variables(s)\n",
    "\n",
    "If no `variables` are specified for a given reader, datasets with any variables will be returned from a search. This is most relevant for a `region` search.\n",
    "\n",
    "However, if you want to specify a variable or variables, keep in mind that different readers have different names for variables, which is why you can't just input a variable name for all the readers. \n",
    "\n",
    "This is only relevant for the ERDDAP and Axiom readers currently (it will retain all variables in local files). The Axiom reader of type `platform2` will search by variable where the available variable names are specified, and of type `layer_group`, the `query` method will be used for variable searching.\n",
    "\n",
    "Let's say you want to search for salinity. You can input the base of the word as `variables` (\"sal\" or \"salinity\" but not \"salt\" since the checker searches for matches with the whole input variable name and \"salt\" isn't used for any variable names) and the code will make sure it exactly matches a known variable name. If it cannot match, it will throw an error with suggestions. This is not done automatically since for example \"soil_salinity\" matches for \"salinity\". You need to do this for each `known_server` for the `erddap` reader separately, and specific variables will only be used to filter for the `axds` reader for `axds_type='platform2'`. Any variable names can be input for the `axds` reader for `axds_type='layer_group'`."
   ]
  },
  {
   "cell_type": "code",
   "execution_count": 7,
   "id": "0f6d2cfa-0deb-40bb-b88a-243a9ec25b45",
   "metadata": {},
   "outputs": [
    {
     "ename": "AssertionError",
     "evalue": "The input variables are not exact matches to ok variables for known_server ioos.                      \nCheck all parameter group values with `ErddapReader().all_variables()`                      \nor search parameter group values with `ErddapReader().search_variables(['sal'])`.                     \n\n Try some of the following variables:\n                                              count\nvariable                                           \nsalinity                                        954\nsalinity_qc                                     954\n...                                             ...\nsea_water_practical_salinity_4161sc_a_qc_agg      1\nsea_water_practical_salinity_10091sc_a            1\n\n[1148 rows x 1 columns]",
     "output_type": "error",
     "traceback": [
      "\u001b[0;31m---------------------------------------------------------------------------\u001b[0m",
      "\u001b[0;31mAssertionError\u001b[0m                            Traceback (most recent call last)",
      "\u001b[0;32m<ipython-input-7-2c87bad22b62>\u001b[0m in \u001b[0;36m<module>\u001b[0;34m\u001b[0m\n\u001b[1;32m     17\u001b[0m \u001b[0;34m\u001b[0m\u001b[0m\n\u001b[1;32m     18\u001b[0m \u001b[0;34m\u001b[0m\u001b[0m\n\u001b[0;32m---> 19\u001b[0;31m \u001b[0mdata\u001b[0m \u001b[0;34m=\u001b[0m \u001b[0modg\u001b[0m\u001b[0;34m.\u001b[0m\u001b[0mGateway\u001b[0m\u001b[0;34m(\u001b[0m\u001b[0;34m**\u001b[0m\u001b[0mkwargs\u001b[0m\u001b[0;34m)\u001b[0m\u001b[0;34m\u001b[0m\u001b[0;34m\u001b[0m\u001b[0m\n\u001b[0m",
      "\u001b[0;32m~/projects/ocean_data_gateway/ocean_data_gateway/gateway.py\u001b[0m in \u001b[0;36m__init__\u001b[0;34m(self, **kwargs)\u001b[0m\n\u001b[1;32m    103\u001b[0m \u001b[0;34m\u001b[0m\u001b[0m\n\u001b[1;32m    104\u001b[0m         \u001b[0mself\u001b[0m\u001b[0;34m.\u001b[0m\u001b[0mkwargs\u001b[0m \u001b[0;34m=\u001b[0m \u001b[0mkwargs\u001b[0m\u001b[0;34m\u001b[0m\u001b[0;34m\u001b[0m\u001b[0m\n\u001b[0;32m--> 105\u001b[0;31m         \u001b[0mself\u001b[0m\u001b[0;34m.\u001b[0m\u001b[0msources\u001b[0m\u001b[0;34m\u001b[0m\u001b[0;34m\u001b[0m\u001b[0m\n\u001b[0m\u001b[1;32m    106\u001b[0m \u001b[0;34m\u001b[0m\u001b[0m\n\u001b[1;32m    107\u001b[0m     \u001b[0;34m@\u001b[0m\u001b[0mproperty\u001b[0m\u001b[0;34m\u001b[0m\u001b[0;34m\u001b[0m\u001b[0m\n",
      "\u001b[0;32m~/projects/ocean_data_gateway/ocean_data_gateway/gateway.py\u001b[0m in \u001b[0;36msources\u001b[0;34m(self)\u001b[0m\n\u001b[1;32m    214\u001b[0m \u001b[0;34m\u001b[0m\u001b[0m\n\u001b[1;32m    215\u001b[0m                     \u001b[0;32mif\u001b[0m \u001b[0mself\u001b[0m\u001b[0;34m.\u001b[0m\u001b[0mkwargs_all\u001b[0m\u001b[0;34m[\u001b[0m\u001b[0;34m\"approach\"\u001b[0m\u001b[0;34m]\u001b[0m \u001b[0;34m==\u001b[0m \u001b[0;34m\"region\"\u001b[0m\u001b[0;34m:\u001b[0m\u001b[0;34m\u001b[0m\u001b[0;34m\u001b[0m\u001b[0m\n\u001b[0;32m--> 216\u001b[0;31m                         \u001b[0mreader\u001b[0m \u001b[0;34m=\u001b[0m \u001b[0msource\u001b[0m\u001b[0;34m.\u001b[0m\u001b[0mregion\u001b[0m\u001b[0;34m(\u001b[0m\u001b[0margs_in\u001b[0m\u001b[0;34m)\u001b[0m\u001b[0;34m\u001b[0m\u001b[0;34m\u001b[0m\u001b[0m\n\u001b[0m\u001b[1;32m    217\u001b[0m                     \u001b[0;32melif\u001b[0m \u001b[0mself\u001b[0m\u001b[0;34m.\u001b[0m\u001b[0mkwargs_all\u001b[0m\u001b[0;34m[\u001b[0m\u001b[0;34m\"approach\"\u001b[0m\u001b[0;34m]\u001b[0m \u001b[0;34m==\u001b[0m \u001b[0;34m\"stations\"\u001b[0m\u001b[0;34m:\u001b[0m\u001b[0;34m\u001b[0m\u001b[0;34m\u001b[0m\u001b[0m\n\u001b[1;32m    218\u001b[0m                         \u001b[0mreader\u001b[0m \u001b[0;34m=\u001b[0m \u001b[0msource\u001b[0m\u001b[0;34m.\u001b[0m\u001b[0mstations\u001b[0m\u001b[0;34m(\u001b[0m\u001b[0margs_in\u001b[0m\u001b[0;34m)\u001b[0m\u001b[0;34m\u001b[0m\u001b[0;34m\u001b[0m\u001b[0m\n",
      "\u001b[0;32m~/projects/ocean_data_gateway/ocean_data_gateway/readers/erddap.py\u001b[0m in \u001b[0;36m__init__\u001b[0;34m(self, kwargs)\u001b[0m\n\u001b[1;32m    757\u001b[0m         \u001b[0;31m# make sure variables are on parameter list\u001b[0m\u001b[0;34m\u001b[0m\u001b[0;34m\u001b[0m\u001b[0;34m\u001b[0m\u001b[0m\n\u001b[1;32m    758\u001b[0m         \u001b[0;32mif\u001b[0m \u001b[0mvariables\u001b[0m \u001b[0;32mis\u001b[0m \u001b[0;32mnot\u001b[0m \u001b[0;32mNone\u001b[0m\u001b[0;34m:\u001b[0m\u001b[0;34m\u001b[0m\u001b[0;34m\u001b[0m\u001b[0m\n\u001b[0;32m--> 759\u001b[0;31m             \u001b[0mself\u001b[0m\u001b[0;34m.\u001b[0m\u001b[0mcheck_variables\u001b[0m\u001b[0;34m(\u001b[0m\u001b[0mvariables\u001b[0m\u001b[0;34m)\u001b[0m\u001b[0;34m\u001b[0m\u001b[0;34m\u001b[0m\u001b[0m\n\u001b[0m\u001b[1;32m    760\u001b[0m         \u001b[0mself\u001b[0m\u001b[0;34m.\u001b[0m\u001b[0mvariables\u001b[0m \u001b[0;34m=\u001b[0m \u001b[0mvariables\u001b[0m\u001b[0;34m\u001b[0m\u001b[0;34m\u001b[0m\u001b[0m\n\u001b[1;32m    761\u001b[0m \u001b[0;34m\u001b[0m\u001b[0m\n",
      "\u001b[0;32m~/projects/ocean_data_gateway/ocean_data_gateway/readers/erddap.py\u001b[0m in \u001b[0;36mcheck_variables\u001b[0;34m(self, variables, verbose)\u001b[0m\n\u001b[1;32m    696\u001b[0m                      \u001b[0;31m\\\u001b[0m\u001b[0mnor\u001b[0m \u001b[0msearch\u001b[0m \u001b[0mparameter\u001b[0m \u001b[0mgroup\u001b[0m \u001b[0mvalues\u001b[0m \u001b[0;32mwith\u001b[0m\u001b[0;31m \u001b[0m\u001b[0;31m`\u001b[0m\u001b[0mErddapReader\u001b[0m\u001b[0;34m(\u001b[0m\u001b[0;34m)\u001b[0m\u001b[0;34m.\u001b[0m\u001b[0msearch_variables\u001b[0m\u001b[0;34m(\u001b[0m\u001b[0;34m{\u001b[0m\u001b[0mvariables\u001b[0m\u001b[0;34m}\u001b[0m\u001b[0;34m)\u001b[0m\u001b[0;31m`\u001b[0m\u001b[0;34m.\u001b[0m\u001b[0;31m\\\u001b[0m\u001b[0;34m\u001b[0m\u001b[0;34m\u001b[0m\u001b[0m\n\u001b[1;32m    697\u001b[0m                      \u001b[0;31m\\\u001b[0m\u001b[0mn\u001b[0m\u001b[0;31m\\\u001b[0m\u001b[0mn\u001b[0m \u001b[0mTry\u001b[0m \u001b[0msome\u001b[0m \u001b[0mof\u001b[0m \u001b[0mthe\u001b[0m \u001b[0mfollowing\u001b[0m \u001b[0mvariables\u001b[0m\u001b[0;34m:\u001b[0m\u001b[0;31m\\\u001b[0m\u001b[0mn\u001b[0m\u001b[0;34m{\u001b[0m\u001b[0mstr\u001b[0m\u001b[0;34m(\u001b[0m\u001b[0mself\u001b[0m\u001b[0;34m.\u001b[0m\u001b[0msearch_variables\u001b[0m\u001b[0;34m(\u001b[0m\u001b[0mvariables\u001b[0m\u001b[0;34m)\u001b[0m\u001b[0;34m)\u001b[0m\u001b[0;34m}\u001b[0m\u001b[0;31m\"\u001b[0m  \u001b[0;31m# \\\u001b[0m\u001b[0;34m\u001b[0m\u001b[0;34m\u001b[0m\u001b[0m\n\u001b[0;32m--> 698\u001b[0;31m         \u001b[0;32massert\u001b[0m \u001b[0mcondition\u001b[0m\u001b[0;34m,\u001b[0m \u001b[0massertion\u001b[0m\u001b[0;34m\u001b[0m\u001b[0;34m\u001b[0m\u001b[0m\n\u001b[0m\u001b[1;32m    699\u001b[0m \u001b[0;34m\u001b[0m\u001b[0m\n\u001b[1;32m    700\u001b[0m         \u001b[0;32mif\u001b[0m \u001b[0mcondition\u001b[0m \u001b[0;32mand\u001b[0m \u001b[0mverbose\u001b[0m\u001b[0;34m:\u001b[0m\u001b[0;34m\u001b[0m\u001b[0;34m\u001b[0m\u001b[0m\n",
      "\u001b[0;31mAssertionError\u001b[0m: The input variables are not exact matches to ok variables for known_server ioos.                      \nCheck all parameter group values with `ErddapReader().all_variables()`                      \nor search parameter group values with `ErddapReader().search_variables(['sal'])`.                     \n\n Try some of the following variables:\n                                              count\nvariable                                           \nsalinity                                        954\nsalinity_qc                                     954\n...                                             ...\nsea_water_practical_salinity_4161sc_a_qc_agg      1\nsea_water_practical_salinity_10091sc_a            1\n\n[1148 rows x 1 columns]"
     ]
    }
   ],
   "source": [
    "kwargs = {\n",
    "          'kw': kw, \n",
    "          'approach': 'region',\n",
    "          'stations': '8771972',\n",
    "          'readers': [odg.erddap,\n",
    "                      odg.axds],\n",
    "                    \n",
    "          'erddap': {\n",
    "                          'known_server': ['coastwatch','ioos'],\n",
    "                           'variables': [['sal'],\n",
    "                                         ['sal']]\n",
    "          },\n",
    "          'axds': {\n",
    "                          'axds_type': ['platform2','layer_group'],\n",
    "                         'variables': ['sal','salinity']},\n",
    "}\n",
    "\n",
    "\n",
    "data = odg.Gateway(**kwargs)"
   ]
  },
  {
   "cell_type": "markdown",
   "id": "67bd315a-7fb8-4df5-aff4-c16e34adaf03",
   "metadata": {},
   "source": [
    "You can do this process iteratively, trying out variables for each of the ERDDAP and Axiom readers until you get what you want. Once you have selected variables that match, the code won't complain anymore."
   ]
  },
  {
   "cell_type": "code",
   "execution_count": 8,
   "id": "8afa1690-2a4c-4500-8156-24b7575a830e",
   "metadata": {},
   "outputs": [],
   "source": [
    "kwargs = {\n",
    "          'kw': kw, \n",
    "          'approach': 'region',\n",
    "          'readers': [odg.erddap,\n",
    "                      odg.axds],\n",
    "                    \n",
    "          'erddap': {\n",
    "                          'known_server': ['coastwatch','ioos'],\n",
    "                           'variables': [['salinity', 'sea_water_salinity'],\n",
    "                                         ['salinity', 'sea_water_practical_salinity']]\n",
    "          },\n",
    "          'axds': {\n",
    "                          'axds_type': ['platform2','layer_group'],\n",
    "                         'variables': ['Salinity','Salinity']},\n",
    "}\n",
    "\n",
    "data = odg.Gateway(**kwargs)"
   ]
  },
  {
   "cell_type": "markdown",
   "id": "141f2bf6-aa97-4b27-8e6b-cc502d20b8b0",
   "metadata": {},
   "source": [
    "### Actions with variables\n",
    "\n",
    "Alternatively you can proactively search for variables for each reader. Currently the ways to call the individiual libraries aren't pretty but they'll work. Note that the number of times a variable is used in the system is also included under \"count\" to see what the popular names are (many are not widely used). \n"
   ]
  },
  {
   "cell_type": "markdown",
   "id": "1b3a7662-d2fa-4a77-8f1c-6bf684034d2d",
   "metadata": {},
   "source": [
    "#### All available variables\n",
    "\n",
    "Return all variables for the two ERDDAP `known_server`s, then for the Axiom reader `axds_type='platform2'`."
   ]
  },
  {
   "cell_type": "code",
   "execution_count": 9,
   "id": "f648f7d7-4a9a-4530-81e1-61852a5b4ef1",
   "metadata": {},
   "outputs": [
    {
     "data": {
      "text/html": [
       "<div>\n",
       "<style scoped>\n",
       "    .dataframe tbody tr th:only-of-type {\n",
       "        vertical-align: middle;\n",
       "    }\n",
       "\n",
       "    .dataframe tbody tr th {\n",
       "        vertical-align: top;\n",
       "    }\n",
       "\n",
       "    .dataframe thead th {\n",
       "        text-align: right;\n",
       "    }\n",
       "</style>\n",
       "<table border=\"1\" class=\"dataframe\">\n",
       "  <thead>\n",
       "    <tr style=\"text-align: right;\">\n",
       "      <th></th>\n",
       "      <th>count</th>\n",
       "    </tr>\n",
       "    <tr>\n",
       "      <th>variable</th>\n",
       "      <th></th>\n",
       "    </tr>\n",
       "  </thead>\n",
       "  <tbody>\n",
       "    <tr>\n",
       "      <th>abund_m3</th>\n",
       "      <td>2</td>\n",
       "    </tr>\n",
       "    <tr>\n",
       "      <th>ac_line</th>\n",
       "      <td>1</td>\n",
       "    </tr>\n",
       "    <tr>\n",
       "      <th>ac_sta</th>\n",
       "      <td>1</td>\n",
       "    </tr>\n",
       "    <tr>\n",
       "      <th>adg_412</th>\n",
       "      <td>8</td>\n",
       "    </tr>\n",
       "    <tr>\n",
       "      <th>adg_412_bias</th>\n",
       "      <td>8</td>\n",
       "    </tr>\n",
       "  </tbody>\n",
       "</table>\n",
       "</div>"
      ],
      "text/plain": [
       "              count\n",
       "variable           \n",
       "abund_m3          2\n",
       "ac_line           1\n",
       "ac_sta            1\n",
       "adg_412           8\n",
       "adg_412_bias      8"
      ]
     },
     "execution_count": 9,
     "metadata": {},
     "output_type": "execute_result"
    }
   ],
   "source": [
    "odg.erddap.ErddapReader(known_server='coastwatch').all_variables().head()"
   ]
  },
  {
   "cell_type": "code",
   "execution_count": 10,
   "id": "4d2a3ced-f055-4fdd-bdb1-02c3c54761be",
   "metadata": {},
   "outputs": [
    {
     "data": {
      "text/html": [
       "<div>\n",
       "<style scoped>\n",
       "    .dataframe tbody tr th:only-of-type {\n",
       "        vertical-align: middle;\n",
       "    }\n",
       "\n",
       "    .dataframe tbody tr th {\n",
       "        vertical-align: top;\n",
       "    }\n",
       "\n",
       "    .dataframe thead th {\n",
       "        text-align: right;\n",
       "    }\n",
       "</style>\n",
       "<table border=\"1\" class=\"dataframe\">\n",
       "  <thead>\n",
       "    <tr style=\"text-align: right;\">\n",
       "      <th></th>\n",
       "      <th>count</th>\n",
       "    </tr>\n",
       "    <tr>\n",
       "      <th>variable</th>\n",
       "      <th></th>\n",
       "    </tr>\n",
       "  </thead>\n",
       "  <tbody>\n",
       "    <tr>\n",
       "      <th>air_pressure</th>\n",
       "      <td>4028</td>\n",
       "    </tr>\n",
       "    <tr>\n",
       "      <th>air_pressure_10011met_a</th>\n",
       "      <td>2</td>\n",
       "    </tr>\n",
       "    <tr>\n",
       "      <th>air_pressure_10311ahlm_a</th>\n",
       "      <td>2</td>\n",
       "    </tr>\n",
       "    <tr>\n",
       "      <th>air_pressure_10311ahlm_a_qc_agg</th>\n",
       "      <td>1</td>\n",
       "    </tr>\n",
       "    <tr>\n",
       "      <th>air_pressure_10311ahlm_a_qc_tests</th>\n",
       "      <td>1</td>\n",
       "    </tr>\n",
       "  </tbody>\n",
       "</table>\n",
       "</div>"
      ],
      "text/plain": [
       "                                   count\n",
       "variable                                \n",
       "air_pressure                        4028\n",
       "air_pressure_10011met_a                2\n",
       "air_pressure_10311ahlm_a               2\n",
       "air_pressure_10311ahlm_a_qc_agg        1\n",
       "air_pressure_10311ahlm_a_qc_tests      1"
      ]
     },
     "execution_count": 10,
     "metadata": {},
     "output_type": "execute_result"
    }
   ],
   "source": [
    "odg.erddap.ErddapReader(known_server='ioos').all_variables().head()"
   ]
  },
  {
   "cell_type": "markdown",
   "id": "bdf6a646-93e2-4f3e-99f1-64abe6bca777",
   "metadata": {},
   "source": [
    "The Axiom reader variables are for `axds_type='platform2'` not `axds_type='layer_group` since the latter are more unique grid products that don't conform well."
   ]
  },
  {
   "cell_type": "code",
   "execution_count": 11,
   "id": "769535e2-3b18-4765-9791-4cfa2de0b7d0",
   "metadata": {},
   "outputs": [
    {
     "data": {
      "text/html": [
       "<div>\n",
       "<style scoped>\n",
       "    .dataframe tbody tr th:only-of-type {\n",
       "        vertical-align: middle;\n",
       "    }\n",
       "\n",
       "    .dataframe tbody tr th {\n",
       "        vertical-align: top;\n",
       "    }\n",
       "\n",
       "    .dataframe thead th {\n",
       "        text-align: right;\n",
       "    }\n",
       "</style>\n",
       "<table border=\"1\" class=\"dataframe\">\n",
       "  <thead>\n",
       "    <tr style=\"text-align: right;\">\n",
       "      <th></th>\n",
       "      <th>count</th>\n",
       "    </tr>\n",
       "    <tr>\n",
       "      <th>variable</th>\n",
       "      <th></th>\n",
       "    </tr>\n",
       "  </thead>\n",
       "  <tbody>\n",
       "    <tr>\n",
       "      <th>Ammonium</th>\n",
       "      <td>23</td>\n",
       "    </tr>\n",
       "    <tr>\n",
       "      <th>Atmospheric Pressure: Air Pressure at Sea Level</th>\n",
       "      <td>362</td>\n",
       "    </tr>\n",
       "    <tr>\n",
       "      <th>Atmospheric Pressure: Barometric Pressure</th>\n",
       "      <td>4152</td>\n",
       "    </tr>\n",
       "    <tr>\n",
       "      <th>Backscatter Intensity</th>\n",
       "      <td>286</td>\n",
       "    </tr>\n",
       "    <tr>\n",
       "      <th>Battery</th>\n",
       "      <td>2705</td>\n",
       "    </tr>\n",
       "  </tbody>\n",
       "</table>\n",
       "</div>"
      ],
      "text/plain": [
       "                                                 count\n",
       "variable                                              \n",
       "Ammonium                                            23\n",
       "Atmospheric Pressure: Air Pressure at Sea Level    362\n",
       "Atmospheric Pressure: Barometric Pressure         4152\n",
       "Backscatter Intensity                              286\n",
       "Battery                                           2705"
      ]
     },
     "execution_count": 11,
     "metadata": {},
     "output_type": "execute_result"
    }
   ],
   "source": [
    "odg.axds.AxdsReader(axds_type='platform2').all_variables().head()"
   ]
  },
  {
   "cell_type": "markdown",
   "id": "7a4aaba3-6b77-422e-9455-e239ffbd1c58",
   "metadata": {},
   "source": [
    "#### All available variables, sorted by count"
   ]
  },
  {
   "cell_type": "code",
   "execution_count": 12,
   "id": "f9c26911-1f2e-48ac-94b1-e0d052c9a678",
   "metadata": {},
   "outputs": [
    {
     "data": {
      "text/html": [
       "<div>\n",
       "<style scoped>\n",
       "    .dataframe tbody tr th:only-of-type {\n",
       "        vertical-align: middle;\n",
       "    }\n",
       "\n",
       "    .dataframe tbody tr th {\n",
       "        vertical-align: top;\n",
       "    }\n",
       "\n",
       "    .dataframe thead th {\n",
       "        text-align: right;\n",
       "    }\n",
       "</style>\n",
       "<table border=\"1\" class=\"dataframe\">\n",
       "  <thead>\n",
       "    <tr style=\"text-align: right;\">\n",
       "      <th></th>\n",
       "      <th>count</th>\n",
       "    </tr>\n",
       "    <tr>\n",
       "      <th>variable</th>\n",
       "      <th></th>\n",
       "    </tr>\n",
       "  </thead>\n",
       "  <tbody>\n",
       "    <tr>\n",
       "      <th>time</th>\n",
       "      <td>1637</td>\n",
       "    </tr>\n",
       "    <tr>\n",
       "      <th>longitude</th>\n",
       "      <td>1352</td>\n",
       "    </tr>\n",
       "    <tr>\n",
       "      <th>latitude</th>\n",
       "      <td>1352</td>\n",
       "    </tr>\n",
       "    <tr>\n",
       "      <th>altitude</th>\n",
       "      <td>725</td>\n",
       "    </tr>\n",
       "    <tr>\n",
       "      <th>sst</th>\n",
       "      <td>208</td>\n",
       "    </tr>\n",
       "  </tbody>\n",
       "</table>\n",
       "</div>"
      ],
      "text/plain": [
       "           count\n",
       "variable        \n",
       "time        1637\n",
       "longitude   1352\n",
       "latitude    1352\n",
       "altitude     725\n",
       "sst          208"
      ]
     },
     "execution_count": 12,
     "metadata": {},
     "output_type": "execute_result"
    }
   ],
   "source": [
    "odg.erddap.ErddapReader(known_server='coastwatch').search_variables('').head()"
   ]
  },
  {
   "cell_type": "code",
   "execution_count": 13,
   "id": "0bfb4fb3-aaeb-44af-8b15-210f720d1bd7",
   "metadata": {},
   "outputs": [
    {
     "data": {
      "text/html": [
       "<div>\n",
       "<style scoped>\n",
       "    .dataframe tbody tr th:only-of-type {\n",
       "        vertical-align: middle;\n",
       "    }\n",
       "\n",
       "    .dataframe tbody tr th {\n",
       "        vertical-align: top;\n",
       "    }\n",
       "\n",
       "    .dataframe thead th {\n",
       "        text-align: right;\n",
       "    }\n",
       "</style>\n",
       "<table border=\"1\" class=\"dataframe\">\n",
       "  <thead>\n",
       "    <tr style=\"text-align: right;\">\n",
       "      <th></th>\n",
       "      <th>count</th>\n",
       "    </tr>\n",
       "    <tr>\n",
       "      <th>variable</th>\n",
       "      <th></th>\n",
       "    </tr>\n",
       "  </thead>\n",
       "  <tbody>\n",
       "    <tr>\n",
       "      <th>time</th>\n",
       "      <td>38331</td>\n",
       "    </tr>\n",
       "    <tr>\n",
       "      <th>longitude</th>\n",
       "      <td>38331</td>\n",
       "    </tr>\n",
       "    <tr>\n",
       "      <th>latitude</th>\n",
       "      <td>38331</td>\n",
       "    </tr>\n",
       "    <tr>\n",
       "      <th>z</th>\n",
       "      <td>37377</td>\n",
       "    </tr>\n",
       "    <tr>\n",
       "      <th>station</th>\n",
       "      <td>37377</td>\n",
       "    </tr>\n",
       "  </tbody>\n",
       "</table>\n",
       "</div>"
      ],
      "text/plain": [
       "           count\n",
       "variable        \n",
       "time       38331\n",
       "longitude  38331\n",
       "latitude   38331\n",
       "z          37377\n",
       "station    37377"
      ]
     },
     "execution_count": 13,
     "metadata": {},
     "output_type": "execute_result"
    }
   ],
   "source": [
    "odg.erddap.ErddapReader(known_server='ioos').search_variables('').head()"
   ]
  },
  {
   "cell_type": "code",
   "execution_count": 14,
   "id": "803ca634-699f-4ab1-bc61-e8a9fe8de8dd",
   "metadata": {},
   "outputs": [
    {
     "data": {
      "text/html": [
       "<div>\n",
       "<style scoped>\n",
       "    .dataframe tbody tr th:only-of-type {\n",
       "        vertical-align: middle;\n",
       "    }\n",
       "\n",
       "    .dataframe tbody tr th {\n",
       "        vertical-align: top;\n",
       "    }\n",
       "\n",
       "    .dataframe thead th {\n",
       "        text-align: right;\n",
       "    }\n",
       "</style>\n",
       "<table border=\"1\" class=\"dataframe\">\n",
       "  <thead>\n",
       "    <tr style=\"text-align: right;\">\n",
       "      <th></th>\n",
       "      <th>count</th>\n",
       "    </tr>\n",
       "    <tr>\n",
       "      <th>variable</th>\n",
       "      <th></th>\n",
       "    </tr>\n",
       "  </thead>\n",
       "  <tbody>\n",
       "    <tr>\n",
       "      <th>Stream Height</th>\n",
       "      <td>19758</td>\n",
       "    </tr>\n",
       "    <tr>\n",
       "      <th>Water Surface above Datum</th>\n",
       "      <td>19489</td>\n",
       "    </tr>\n",
       "    <tr>\n",
       "      <th>Stream Flow</th>\n",
       "      <td>15203</td>\n",
       "    </tr>\n",
       "    <tr>\n",
       "      <th>Temperature: Air Temperature</th>\n",
       "      <td>8369</td>\n",
       "    </tr>\n",
       "    <tr>\n",
       "      <th>Precipitation</th>\n",
       "      <td>7364</td>\n",
       "    </tr>\n",
       "  </tbody>\n",
       "</table>\n",
       "</div>"
      ],
      "text/plain": [
       "                              count\n",
       "variable                           \n",
       "Stream Height                 19758\n",
       "Water Surface above Datum     19489\n",
       "Stream Flow                   15203\n",
       "Temperature: Air Temperature   8369\n",
       "Precipitation                  7364"
      ]
     },
     "execution_count": 14,
     "metadata": {},
     "output_type": "execute_result"
    }
   ],
   "source": [
    "odg.axds.AxdsReader(axds_type='platform2').search_variables('').head()"
   ]
  },
  {
   "cell_type": "markdown",
   "id": "41db669d-903b-4df7-85dc-447cfe6415a3",
   "metadata": {},
   "source": [
    "#### Variables search, sorted by count"
   ]
  },
  {
   "cell_type": "code",
   "execution_count": 15,
   "id": "1174dcce-e573-497f-bf3a-8f2675607500",
   "metadata": {},
   "outputs": [
    {
     "data": {
      "text/html": [
       "<div>\n",
       "<style scoped>\n",
       "    .dataframe tbody tr th:only-of-type {\n",
       "        vertical-align: middle;\n",
       "    }\n",
       "\n",
       "    .dataframe tbody tr th {\n",
       "        vertical-align: top;\n",
       "    }\n",
       "\n",
       "    .dataframe thead th {\n",
       "        text-align: right;\n",
       "    }\n",
       "</style>\n",
       "<table border=\"1\" class=\"dataframe\">\n",
       "  <thead>\n",
       "    <tr style=\"text-align: right;\">\n",
       "      <th></th>\n",
       "      <th>count</th>\n",
       "    </tr>\n",
       "    <tr>\n",
       "      <th>variable</th>\n",
       "      <th></th>\n",
       "    </tr>\n",
       "  </thead>\n",
       "  <tbody>\n",
       "    <tr>\n",
       "      <th>salinity</th>\n",
       "      <td>73</td>\n",
       "    </tr>\n",
       "    <tr>\n",
       "      <th>salt</th>\n",
       "      <td>4</td>\n",
       "    </tr>\n",
       "    <tr>\n",
       "      <th>sea_water_salinity</th>\n",
       "      <td>4</td>\n",
       "    </tr>\n",
       "    <tr>\n",
       "      <th>surface_salinity_trend</th>\n",
       "      <td>2</td>\n",
       "    </tr>\n",
       "    <tr>\n",
       "      <th>bucket_salinity</th>\n",
       "      <td>1</td>\n",
       "    </tr>\n",
       "  </tbody>\n",
       "</table>\n",
       "</div>"
      ],
      "text/plain": [
       "                        count\n",
       "variable                     \n",
       "salinity                   73\n",
       "salt                        4\n",
       "sea_water_salinity          4\n",
       "surface_salinity_trend      2\n",
       "bucket_salinity             1"
      ]
     },
     "execution_count": 15,
     "metadata": {},
     "output_type": "execute_result"
    }
   ],
   "source": [
    "odg.erddap.ErddapReader(known_server='coastwatch').search_variables('sal').head()"
   ]
  },
  {
   "cell_type": "code",
   "execution_count": 16,
   "id": "909cc65e-441c-4b20-a75c-87d7117ee7c3",
   "metadata": {},
   "outputs": [
    {
     "data": {
      "text/html": [
       "<div>\n",
       "<style scoped>\n",
       "    .dataframe tbody tr th:only-of-type {\n",
       "        vertical-align: middle;\n",
       "    }\n",
       "\n",
       "    .dataframe tbody tr th {\n",
       "        vertical-align: top;\n",
       "    }\n",
       "\n",
       "    .dataframe thead th {\n",
       "        text-align: right;\n",
       "    }\n",
       "</style>\n",
       "<table border=\"1\" class=\"dataframe\">\n",
       "  <thead>\n",
       "    <tr style=\"text-align: right;\">\n",
       "      <th></th>\n",
       "      <th>count</th>\n",
       "    </tr>\n",
       "    <tr>\n",
       "      <th>variable</th>\n",
       "      <th></th>\n",
       "    </tr>\n",
       "  </thead>\n",
       "  <tbody>\n",
       "    <tr>\n",
       "      <th>salinity</th>\n",
       "      <td>954</td>\n",
       "    </tr>\n",
       "    <tr>\n",
       "      <th>salinity_qc</th>\n",
       "      <td>954</td>\n",
       "    </tr>\n",
       "    <tr>\n",
       "      <th>sea_water_practical_salinity</th>\n",
       "      <td>778</td>\n",
       "    </tr>\n",
       "    <tr>\n",
       "      <th>soil_salinity_qc_agg</th>\n",
       "      <td>622</td>\n",
       "    </tr>\n",
       "    <tr>\n",
       "      <th>soil_salinity</th>\n",
       "      <td>622</td>\n",
       "    </tr>\n",
       "  </tbody>\n",
       "</table>\n",
       "</div>"
      ],
      "text/plain": [
       "                              count\n",
       "variable                           \n",
       "salinity                        954\n",
       "salinity_qc                     954\n",
       "sea_water_practical_salinity    778\n",
       "soil_salinity_qc_agg            622\n",
       "soil_salinity                   622"
      ]
     },
     "execution_count": 16,
     "metadata": {},
     "output_type": "execute_result"
    }
   ],
   "source": [
    "odg.erddap.ErddapReader(known_server='ioos').search_variables('sal').head()"
   ]
  },
  {
   "cell_type": "code",
   "execution_count": 17,
   "id": "6a0195d7-0f8b-4410-9d68-902241fc6565",
   "metadata": {},
   "outputs": [
    {
     "data": {
      "text/html": [
       "<div>\n",
       "<style scoped>\n",
       "    .dataframe tbody tr th:only-of-type {\n",
       "        vertical-align: middle;\n",
       "    }\n",
       "\n",
       "    .dataframe tbody tr th {\n",
       "        vertical-align: top;\n",
       "    }\n",
       "\n",
       "    .dataframe thead th {\n",
       "        text-align: right;\n",
       "    }\n",
       "</style>\n",
       "<table border=\"1\" class=\"dataframe\">\n",
       "  <thead>\n",
       "    <tr style=\"text-align: right;\">\n",
       "      <th></th>\n",
       "      <th>count</th>\n",
       "    </tr>\n",
       "    <tr>\n",
       "      <th>variable</th>\n",
       "      <th></th>\n",
       "    </tr>\n",
       "  </thead>\n",
       "  <tbody>\n",
       "    <tr>\n",
       "      <th>Salinity</th>\n",
       "      <td>3204</td>\n",
       "    </tr>\n",
       "    <tr>\n",
       "      <th>Soil Salinity</th>\n",
       "      <td>622</td>\n",
       "    </tr>\n",
       "  </tbody>\n",
       "</table>\n",
       "</div>"
      ],
      "text/plain": [
       "               count\n",
       "variable            \n",
       "Salinity        3204\n",
       "Soil Salinity    622"
      ]
     },
     "execution_count": 17,
     "metadata": {},
     "output_type": "execute_result"
    }
   ],
   "source": [
    "odg.axds.AxdsReader(axds_type='platform2').search_variables('sal').head()"
   ]
  },
  {
   "cell_type": "markdown",
   "id": "a755f3d4-4c9e-4c76-ba25-4ff620a7eae7",
   "metadata": {},
   "source": [
    "#### Check variables\n",
    "\n",
    "And finally you can check to make sure you have good variables. No news is good news in this. Reminder that you don't check for axds reader for axds_type='layer_group' because that is searched for in the database just by name as a query."
   ]
  },
  {
   "cell_type": "code",
   "execution_count": 18,
   "id": "258be690-4ba5-4c6a-9d22-7904044b7a63",
   "metadata": {},
   "outputs": [],
   "source": [
    "odg.erddap.ErddapReader(known_server='coastwatch').check_variables(['salinity', 'sea_water_salinity'])"
   ]
  },
  {
   "cell_type": "code",
   "execution_count": 19,
   "id": "7da9e05e-9697-4c55-b3ea-54a0316b9956",
   "metadata": {},
   "outputs": [],
   "source": [
    "odg.erddap.ErddapReader(known_server='ioos').check_variables(['salinity', 'sea_water_practical_salinity'])"
   ]
  },
  {
   "cell_type": "code",
   "execution_count": 20,
   "id": "3cabc0af-9050-4464-847d-541ece6ee2c5",
   "metadata": {},
   "outputs": [],
   "source": [
    "odg.axds.AxdsReader(axds_type='platform2').check_variables('Salinity')"
   ]
  },
  {
   "cell_type": "markdown",
   "id": "d45b313c-bfb3-4cd0-b908-1b28005f9030",
   "metadata": {},
   "source": [
    "Or, all together in one call"
   ]
  },
  {
   "cell_type": "code",
   "execution_count": 21,
   "id": "c9809f5f-485c-4fcb-8887-f277ba544440",
   "metadata": {},
   "outputs": [],
   "source": [
    "kwargs = {\n",
    "          'kw': kw, \n",
    "          'approach': 'region',\n",
    "          'readers': [odg.erddap,\n",
    "                      odg.axds],\n",
    "\n",
    "          'erddap': {\n",
    "                          'known_server': ['coastwatch','ioos'],\n",
    "                           'variables': [['salinity', 'sea_water_salinity'],\n",
    "                                         ['salinity', 'sea_water_practical_salinity']]\n",
    "          },\n",
    "          'axds': {\n",
    "                          'axds_type': ['platform2','layer_group'],\n",
    "                         'variables': ['Salinity',\n",
    "                                       'salinity'  # this one can be called anything that might make a match\n",
    "                                      ]},\n",
    "}\n",
    "\n",
    "data = odg.Gateway(**kwargs)"
   ]
  },
  {
   "cell_type": "code",
   "execution_count": 22,
   "id": "21e3ced0-53d8-427b-b793-5a9d0306037b",
   "metadata": {},
   "outputs": [
    {
     "data": {
      "text/plain": [
       "[[],\n",
       " [],\n",
       " [],\n",
       " ['5104d464-8a30-4720-aeb7-57e801844e6e',\n",
       "  'd359748a-fe78-11e7-8128-0023aeec7b98',\n",
       "  '99737f5d-c984-4bf0-82cd-18508fea413f',\n",
       "  '3261285c-e3c9-45fd-b777-e6d681a3eaad']]"
      ]
     },
     "execution_count": 22,
     "metadata": {},
     "output_type": "execute_result"
    }
   ],
   "source": [
    "data.dataset_ids"
   ]
  },
  {
   "cell_type": "markdown",
   "id": "c49c6c86-66fa-4655-9c57-81292ce94a6b",
   "metadata": {},
   "source": [
    "## Stations\n",
    "\n",
    "You can search by either a general station name to be searched for, or by the specific database dataset_id if you know it (from performing a search previously, for example).\n"
   ]
  },
  {
   "cell_type": "markdown",
   "id": "dd7f74b5-59ba-4f21-afd2-be28a40a6eb4",
   "metadata": {},
   "source": [
    "### By station name\n",
    "\n",
    "In the case that you know names of stations, but they might not be the names in the particular databases, you can use this approach.\n",
    "\n",
    "In the follow example, I use some station id's I know off the top of my head. Note that the dataset_ids are returned in order of the readers in a list of lists that are being used (ERDDAP IOOS, ERDDAP Coastwatch, Axiom platform2, Axiom layer_group, localreader). The module will check all of the readers for the station names.\n",
    "\n",
    "There are 2 listings for the station \"SFBOFS\" because there are two listings in the database: one for unstructured grid output and one for interpolated structured grid output. The module (not 'layer_group') uuid is the \"dataset_id\" for `axds_type='layer_group'` searches/stations."
   ]
  },
  {
   "cell_type": "code",
   "execution_count": 23,
   "id": "bca61e64-7cb9-4e62-b85d-9aa6bc8cbdd5",
   "metadata": {},
   "outputs": [],
   "source": [
    "kwargs = {\n",
    "          'approach': 'stations',\n",
    "          'stations': ['8771972','SFBOFS','42020','TABS_B']\n",
    "}\n",
    "data = odg.Gateway(**kwargs)"
   ]
  },
  {
   "cell_type": "code",
   "execution_count": 24,
   "id": "81f5f242-5359-44b0-a629-2509587b43ce",
   "metadata": {},
   "outputs": [
    {
     "data": {
      "text/plain": [
       "[['tabs_b', 'wmo_42020', 'noaa_nos_co_ops_8771972'],\n",
       " [],\n",
       " [],\n",
       " ['03158b5d-f712-45f2-b05d-e4954372c1ce',\n",
       "  '794f7bba-b3d2-4da8-8465-408c27ab433b'],\n",
       " []]"
      ]
     },
     "execution_count": 24,
     "metadata": {},
     "output_type": "execute_result"
    }
   ],
   "source": [
    "data.dataset_ids"
   ]
  },
  {
   "cell_type": "markdown",
   "id": "1b3f2a0f-b019-4d50-85fb-01e21c36ab96",
   "metadata": {},
   "source": [
    "### By Dataset ID\n",
    "\n",
    "Once we know the database dataset_ids, we can use them directly for future searches. Note that they need to be associated with the correct reader/database, as shown in the call below."
   ]
  },
  {
   "cell_type": "code",
   "execution_count": 25,
   "id": "9967a7ff-e00a-4b78-8777-894ffb4afc8d",
   "metadata": {},
   "outputs": [],
   "source": [
    "kwargs = {\n",
    "          'approach': 'stations',\n",
    "          'erddap': {\n",
    "                          'known_server': 'ioos',\n",
    "                           'dataset_ids': [['tabs_b', 'wmo_42020', 'noaa_nos_co_ops_8771972']]\n",
    "          },\n",
    "          'axds': {\n",
    "                          'axds_type': 'layer_group',\n",
    "                         'dataset_ids': '03158b5d-f712-45f2-b05d-e4954372c1ce'},\n",
    "\n",
    "}\n",
    "data = odg.Gateway(**kwargs)"
   ]
  },
  {
   "cell_type": "code",
   "execution_count": 26,
   "id": "d72f2e6f-a0b7-47af-b6a3-82a442bf72fc",
   "metadata": {},
   "outputs": [
    {
     "data": {
      "text/plain": [
       "[['tabs_b', 'wmo_42020', 'noaa_nos_co_ops_8771972'],\n",
       " ['03158b5d-f712-45f2-b05d-e4954372c1ce'],\n",
       " []]"
      ]
     },
     "execution_count": 26,
     "metadata": {},
     "output_type": "execute_result"
    }
   ],
   "source": [
    "data.dataset_ids"
   ]
  },
  {
   "cell_type": "markdown",
   "id": "cec10da1-f481-41a2-9489-be799371bbec",
   "metadata": {},
   "source": [
    "For `axds_type=='layer_group'`, Axiom module's uuid's should be used as `dataset_ids` (these are returned from the search above in \"By station name\"). If for some reason you have an Axiom 'layer_group' uuid specifically, you should input that as a \"station\". In both cases, the module uuid is returned as the dataset_id because that is how 'layer_group' information is organized."
   ]
  },
  {
   "cell_type": "code",
   "execution_count": 27,
   "id": "5bf78ce4-9e4b-4e80-aaaf-3b2a0802c0da",
   "metadata": {},
   "outputs": [
    {
     "data": {
      "text/plain": [
       "[[], [], ['03158b5d-f712-45f2-b05d-e4954372c1ce'], []]"
      ]
     },
     "execution_count": 27,
     "metadata": {},
     "output_type": "execute_result"
    }
   ],
   "source": [
    "# Example with module uuid input as dataset_id for 'layer_group'\n",
    "kwargs = {\n",
    "          'approach': 'stations',\n",
    "            'axds': {\n",
    "                'axds_type': 'layer_group',\n",
    "                'dataset_ids': '03158b5d-f712-45f2-b05d-e4954372c1ce'}\n",
    "}\n",
    "data = odg.Gateway(**kwargs)\n",
    "data.dataset_ids"
   ]
  },
  {
   "cell_type": "code",
   "execution_count": 28,
   "id": "e5f21518-2f46-4eb6-9a8c-676756fb7636",
   "metadata": {},
   "outputs": [
    {
     "data": {
      "text/plain": [
       "[[], [], ['03158b5d-f712-45f2-b05d-e4954372c1ce'], []]"
      ]
     },
     "execution_count": 28,
     "metadata": {},
     "output_type": "execute_result"
    }
   ],
   "source": [
    "# Example with layer_group uuid input as station for 'layer_group'\n",
    "kwargs = {\n",
    "          'approach': 'stations',\n",
    "            'axds': {\n",
    "                'axds_type': 'layer_group',\n",
    "              'stations': '04784baa-6be8-4aa7-b039-269f35e92e91'}\n",
    "}\n",
    "data = odg.Gateway(**kwargs)\n",
    "data.dataset_ids"
   ]
  },
  {
   "cell_type": "markdown",
   "id": "89fb2a71-fca2-4c2b-8751-51505ba22276",
   "metadata": {},
   "source": [
    "### Include Time Range\n",
    "\n",
    "By default, the full available time range will be returned for each dataset unless the user specifies one to narrow the returned datasets in time.\n",
    "\n",
    "Data defined in previous cell shows long time range for any of the sources you can tell there are 4 sources considered since the list in the previous code cell has 4 elements.\n"
   ]
  },
  {
   "cell_type": "code",
   "execution_count": 29,
   "id": "4c189690-916d-411c-8781-2f2157221930",
   "metadata": {},
   "outputs": [
    {
     "data": {
      "text/plain": [
       "{'min_time': '1900-01-01', 'max_time': '2100-12-31'}"
      ]
     },
     "execution_count": 29,
     "metadata": {},
     "output_type": "execute_result"
    }
   ],
   "source": [
    "data.sources[0].kw"
   ]
  },
  {
   "cell_type": "markdown",
   "id": "2fea5c81-e5a4-426b-b702-19196b7b6212",
   "metadata": {},
   "source": [
    "A shorter time range is shown in the following since it is specified."
   ]
  },
  {
   "cell_type": "code",
   "execution_count": 30,
   "id": "7204a8fd-ec23-4607-a347-790fc3208803",
   "metadata": {},
   "outputs": [
    {
     "data": {
      "text/plain": [
       "{'min_time': '2017-1-1', 'max_time': '2017-1-2'}"
      ]
     },
     "execution_count": 30,
     "metadata": {},
     "output_type": "execute_result"
    }
   ],
   "source": [
    "kwargs = {\n",
    "          'kw': {'min_time': '2017-1-1', \n",
    "                 'max_time': '2017-1-2'},\n",
    "          'approach': 'stations',\n",
    "          'stations': ['8771972']\n",
    "}\n",
    "data = odg.Gateway(**kwargs)\n",
    "data.sources[0].kw"
   ]
  },
  {
   "cell_type": "markdown",
   "id": "2e1025cb-d10e-4cb6-bf7c-11fdf9f9bf56",
   "metadata": {},
   "source": [
    "## Reader Options\n",
    "\n",
    "### ERDDAP Reader\n",
    "\n",
    "By default, the Data module will use `erddap` with two known servers: IOOS and Coastwatch. "
   ]
  },
  {
   "cell_type": "code",
   "execution_count": 31,
   "id": "c50472bc-c5b5-4d35-bcd1-6a80b8ff6d78",
   "metadata": {},
   "outputs": [
    {
     "data": {
      "text/plain": [
       "('erddap_ioos', 'erddap_coastwatch')"
      ]
     },
     "execution_count": 31,
     "metadata": {},
     "output_type": "execute_result"
    }
   ],
   "source": [
    "kwargs = {\n",
    "          'kw': kw,\n",
    "          'approach': 'region',\n",
    "          'readers': [odg.erddap]\n",
    "}\n",
    "data = odg.Gateway(**kwargs)\n",
    "data.sources[0].name, data.sources[1].name"
   ]
  },
  {
   "cell_type": "markdown",
   "id": "614f36b5-6b04-4ab9-bb35-18f6aa19e0b1",
   "metadata": {},
   "source": [
    "#### Choose one known server\n",
    "\n",
    "The user can specify to use just one of these:"
   ]
  },
  {
   "cell_type": "code",
   "execution_count": 32,
   "id": "a137f489-df2c-4f02-a181-888f7e3f927f",
   "metadata": {},
   "outputs": [
    {
     "data": {
      "text/plain": [
       "'erddap_ioos'"
      ]
     },
     "execution_count": 32,
     "metadata": {},
     "output_type": "execute_result"
    }
   ],
   "source": [
    "kwargs = {\n",
    "          'kw': kw,\n",
    "          'approach': 'region',\n",
    "          'readers': [odg.erddap],\n",
    "          'erddap': {\n",
    "                      'known_server': ['ioos'],  # or 'coastwatch'\n",
    "          }\n",
    "}\n",
    "data = odg.Gateway(**kwargs)\n",
    "data.sources[0].name"
   ]
  },
  {
   "cell_type": "markdown",
   "id": "f7d8f32e-1d6b-4804-b075-348f0e9572be",
   "metadata": {},
   "source": [
    "#### New ERDDAP Server\n",
    "\n",
    "You can give the necessary information to use a different ERDDAP server."
   ]
  },
  {
   "cell_type": "code",
   "execution_count": 33,
   "id": "fa499f82-5bae-484a-abc6-75f1b4c6113c",
   "metadata": {},
   "outputs": [],
   "source": [
    "kwargs = {\n",
    "          'kw': kw,\n",
    "          'approach': 'region',\n",
    "          'readers': [odg.erddap],\n",
    "            'erddap': {\n",
    "                'known_server': 'ifremer',\n",
    "                'protocol': 'tabledap',\n",
    "                'server': 'http://www.ifremer.fr/erddap'\n",
    "            }\n",
    "}\n",
    "data = odg.Gateway(**kwargs)"
   ]
  },
  {
   "cell_type": "code",
   "execution_count": 34,
   "id": "378ff08a-4f7a-45fe-b7a1-3cb1e12a2f64",
   "metadata": {},
   "outputs": [
    {
     "data": {
      "text/plain": [
       "[['OceanGlidersGDACTrajectories',\n",
       "  'ArgoFloats-synthetic-BGC',\n",
       "  'ArgoFloats',\n",
       "  'copernicus-fos']]"
      ]
     },
     "execution_count": 34,
     "metadata": {},
     "output_type": "execute_result"
    }
   ],
   "source": [
    "data.dataset_ids"
   ]
  },
  {
   "cell_type": "markdown",
   "id": "cfee88a2-3918-487c-b471-d7305aaaa261",
   "metadata": {},
   "source": [
    "### AXDS Reader\n",
    "\n",
    "By default the Gateway class will use `axds` with two types of data: 'platform2' (like gliders) or 'layer_group' (model output, gridded products). "
   ]
  },
  {
   "cell_type": "code",
   "execution_count": 35,
   "id": "7bc170ea-19f7-417d-bdb5-e91417d01cf3",
   "metadata": {},
   "outputs": [
    {
     "data": {
      "text/plain": [
       "('axds_platform2', 'axds_layer_group')"
      ]
     },
     "execution_count": 35,
     "metadata": {},
     "output_type": "execute_result"
    }
   ],
   "source": [
    "kwargs = {\n",
    "          'kw': kw,\n",
    "          'approach': 'region',\n",
    "          'readers': [odg.axds]\n",
    "}\n",
    "data = odg.Gateway(**kwargs)\n",
    "data.sources[0].name, data.sources[1].name"
   ]
  },
  {
   "cell_type": "markdown",
   "id": "50c3f443-85e1-4020-be17-271de6b6a1c9",
   "metadata": {},
   "source": [
    "#### Specify AXDS Type\n",
    "\n",
    "The user can specify to use just one of these:"
   ]
  },
  {
   "cell_type": "code",
   "execution_count": 36,
   "id": "2f228543-b04c-40c2-ae37-1868b110a400",
   "metadata": {},
   "outputs": [
    {
     "data": {
      "text/plain": [
       "'axds_platform2'"
      ]
     },
     "execution_count": 36,
     "metadata": {},
     "output_type": "execute_result"
    }
   ],
   "source": [
    "kwargs = {\n",
    "          'kw': kw,\n",
    "          'approach': 'region',\n",
    "          'readers': [odg.axds],\n",
    "          'axds': {\n",
    "                          'axds_type': 'platform2',  # or 'layer_group'\n",
    "          }\n",
    "}\n",
    "data = odg.Gateway(**kwargs)\n",
    "data.sources[0].name"
   ]
  },
  {
   "cell_type": "markdown",
   "id": "7c91b03c-a86a-4191-9c1a-d017bd967391",
   "metadata": {},
   "source": [
    "### Local Files\n",
    "\n",
    "I can't remember the process by which I got these files from a portal now, but they are just meant to be sample files anyway. Hopefully this will work reasonably well with other files too.\n",
    "\n",
    "The `region` and `stations` approach doesn't work as well with local files if the user would only be inputting filenames if they know they want to use them. It could be useful to use the approaches in the case that the user has a bunch of files somewhere or a catalog that already exists and they just want to point to that and have the code filter down. That code is not in place but could be if that is a good use case.\n",
    "\n",
    "So it currently doesn't matter which approach is used for local files. There is a default `kw` and `region` if nothing is input and in this case that is fine since neither are used."
   ]
  },
  {
   "cell_type": "code",
   "execution_count": 37,
   "id": "8e1a487e-c387-4df9-96f9-fab63f3b4354",
   "metadata": {},
   "outputs": [],
   "source": [
    "filenames = ['/Users/kthyng/Downloads/ANIMIDA_III_BeaufortSea_2014-2015/kasper-netcdf/ANIMctd14.nc',\n",
    "             '/Users/kthyng/Downloads/Harrison_Bay_CTD_MooringData_2014-2015/Harrison_Bay_data/SBE16plus_01604787_2015_08_09_final.csv']\n",
    "\n",
    "data = odg.Gateway(readers=odg.local, local={'filenames': filenames})"
   ]
  },
  {
   "cell_type": "markdown",
   "id": "39320313-0d2d-4c47-9fc5-53d83a5d5f8e",
   "metadata": {},
   "source": [
    "Can look at metadata or data"
   ]
  },
  {
   "cell_type": "code",
   "execution_count": 38,
   "id": "0a6616c0-fa05-4ded-a40e-fb157f454bae",
   "metadata": {},
   "outputs": [
    {
     "data": {
      "text/html": [
       "<div>\n",
       "<style scoped>\n",
       "    .dataframe tbody tr th:only-of-type {\n",
       "        vertical-align: middle;\n",
       "    }\n",
       "\n",
       "    .dataframe tbody tr th {\n",
       "        vertical-align: top;\n",
       "    }\n",
       "\n",
       "    .dataframe thead th {\n",
       "        text-align: right;\n",
       "    }\n",
       "</style>\n",
       "<table border=\"1\" class=\"dataframe\">\n",
       "  <thead>\n",
       "    <tr style=\"text-align: right;\">\n",
       "      <th></th>\n",
       "      <th>time_variable</th>\n",
       "      <th>geospatial_lon_min</th>\n",
       "      <th>geospatial_lat_max</th>\n",
       "      <th>variables</th>\n",
       "      <th>geospatial_lat_min</th>\n",
       "      <th>catalog_dir</th>\n",
       "      <th>lon_variable</th>\n",
       "      <th>time_coverage_end</th>\n",
       "      <th>download_url</th>\n",
       "      <th>coords</th>\n",
       "      <th>geospatial_lon_max</th>\n",
       "      <th>time_coverage_start</th>\n",
       "      <th>lat_variable</th>\n",
       "    </tr>\n",
       "  </thead>\n",
       "  <tbody>\n",
       "    <tr>\n",
       "      <th>ANIMctd14.nc</th>\n",
       "      <td>time</td>\n",
       "      <td>-152.581114</td>\n",
       "      <td>71.488255</td>\n",
       "      <td>[station_name, sal, tem, fluoro, turbidity, PA...</td>\n",
       "      <td>69.850874</td>\n",
       "      <td>/Users/kthyng/.ocean_data_gateway/catalogs/</td>\n",
       "      <td>lon</td>\n",
       "      <td>2014-08-07T21:35:54.000004381</td>\n",
       "      <td>/Users/kthyng/Downloads/ANIMIDA_III_BeaufortSe...</td>\n",
       "      <td>[time, lat, lon, pressure]</td>\n",
       "      <td>-141.717438</td>\n",
       "      <td>2014-07-31T15:33:33.999999314</td>\n",
       "      <td>lat</td>\n",
       "    </tr>\n",
       "    <tr>\n",
       "      <th>SBE16plus_01604787_2015_08_09_final.csv</th>\n",
       "      <td>NaN</td>\n",
       "      <td>-150.237</td>\n",
       "      <td>70.6349</td>\n",
       "      <td>[time, latitude, longitude, water_depth, Condu...</td>\n",
       "      <td>70.6349</td>\n",
       "      <td>/Users/kthyng/.ocean_data_gateway/catalogs/</td>\n",
       "      <td>NaN</td>\n",
       "      <td>2015-08-09T06:00:05Z</td>\n",
       "      <td>/Users/kthyng/Downloads/Harrison_Bay_CTD_Moori...</td>\n",
       "      <td>NaN</td>\n",
       "      <td>-150.237</td>\n",
       "      <td>2014-08-01T12:00:05Z</td>\n",
       "      <td>NaN</td>\n",
       "    </tr>\n",
       "  </tbody>\n",
       "</table>\n",
       "</div>"
      ],
      "text/plain": [
       "                                        time_variable geospatial_lon_min  \\\n",
       "ANIMctd14.nc                                     time        -152.581114   \n",
       "SBE16plus_01604787_2015_08_09_final.csv           NaN           -150.237   \n",
       "\n",
       "                                        geospatial_lat_max  \\\n",
       "ANIMctd14.nc                                     71.488255   \n",
       "SBE16plus_01604787_2015_08_09_final.csv            70.6349   \n",
       "\n",
       "                                                                                 variables  \\\n",
       "ANIMctd14.nc                             [station_name, sal, tem, fluoro, turbidity, PA...   \n",
       "SBE16plus_01604787_2015_08_09_final.csv  [time, latitude, longitude, water_depth, Condu...   \n",
       "\n",
       "                                        geospatial_lat_min  \\\n",
       "ANIMctd14.nc                                     69.850874   \n",
       "SBE16plus_01604787_2015_08_09_final.csv            70.6349   \n",
       "\n",
       "                                                                         catalog_dir  \\\n",
       "ANIMctd14.nc                             /Users/kthyng/.ocean_data_gateway/catalogs/   \n",
       "SBE16plus_01604787_2015_08_09_final.csv  /Users/kthyng/.ocean_data_gateway/catalogs/   \n",
       "\n",
       "                                        lon_variable  \\\n",
       "ANIMctd14.nc                                     lon   \n",
       "SBE16plus_01604787_2015_08_09_final.csv          NaN   \n",
       "\n",
       "                                                     time_coverage_end  \\\n",
       "ANIMctd14.nc                             2014-08-07T21:35:54.000004381   \n",
       "SBE16plus_01604787_2015_08_09_final.csv           2015-08-09T06:00:05Z   \n",
       "\n",
       "                                                                              download_url  \\\n",
       "ANIMctd14.nc                             /Users/kthyng/Downloads/ANIMIDA_III_BeaufortSe...   \n",
       "SBE16plus_01604787_2015_08_09_final.csv  /Users/kthyng/Downloads/Harrison_Bay_CTD_Moori...   \n",
       "\n",
       "                                                             coords  \\\n",
       "ANIMctd14.nc                             [time, lat, lon, pressure]   \n",
       "SBE16plus_01604787_2015_08_09_final.csv                         NaN   \n",
       "\n",
       "                                        geospatial_lon_max  \\\n",
       "ANIMctd14.nc                                   -141.717438   \n",
       "SBE16plus_01604787_2015_08_09_final.csv           -150.237   \n",
       "\n",
       "                                                   time_coverage_start  \\\n",
       "ANIMctd14.nc                             2014-07-31T15:33:33.999999314   \n",
       "SBE16plus_01604787_2015_08_09_final.csv           2014-08-01T12:00:05Z   \n",
       "\n",
       "                                        lat_variable  \n",
       "ANIMctd14.nc                                     lat  \n",
       "SBE16plus_01604787_2015_08_09_final.csv          NaN  "
      ]
     },
     "execution_count": 38,
     "metadata": {},
     "output_type": "execute_result"
    }
   ],
   "source": [
    "data.meta[0]"
   ]
  },
  {
   "cell_type": "code",
   "execution_count": 39,
   "id": "39026b84-278e-4154-b32b-82c91cff3f1c",
   "metadata": {},
   "outputs": [
    {
     "data": {
      "text/html": [
       "<div><svg style=\"position: absolute; width: 0; height: 0; overflow: hidden\">\n",
       "<defs>\n",
       "<symbol id=\"icon-database\" viewBox=\"0 0 32 32\">\n",
       "<path d=\"M16 0c-8.837 0-16 2.239-16 5v4c0 2.761 7.163 5 16 5s16-2.239 16-5v-4c0-2.761-7.163-5-16-5z\"></path>\n",
       "<path d=\"M16 17c-8.837 0-16-2.239-16-5v6c0 2.761 7.163 5 16 5s16-2.239 16-5v-6c0 2.761-7.163 5-16 5z\"></path>\n",
       "<path d=\"M16 26c-8.837 0-16-2.239-16-5v6c0 2.761 7.163 5 16 5s16-2.239 16-5v-6c0 2.761-7.163 5-16 5z\"></path>\n",
       "</symbol>\n",
       "<symbol id=\"icon-file-text2\" viewBox=\"0 0 32 32\">\n",
       "<path d=\"M28.681 7.159c-0.694-0.947-1.662-2.053-2.724-3.116s-2.169-2.030-3.116-2.724c-1.612-1.182-2.393-1.319-2.841-1.319h-15.5c-1.378 0-2.5 1.121-2.5 2.5v27c0 1.378 1.122 2.5 2.5 2.5h23c1.378 0 2.5-1.122 2.5-2.5v-19.5c0-0.448-0.137-1.23-1.319-2.841zM24.543 5.457c0.959 0.959 1.712 1.825 2.268 2.543h-4.811v-4.811c0.718 0.556 1.584 1.309 2.543 2.268zM28 29.5c0 0.271-0.229 0.5-0.5 0.5h-23c-0.271 0-0.5-0.229-0.5-0.5v-27c0-0.271 0.229-0.5 0.5-0.5 0 0 15.499-0 15.5 0v7c0 0.552 0.448 1 1 1h7v19.5z\"></path>\n",
       "<path d=\"M23 26h-14c-0.552 0-1-0.448-1-1s0.448-1 1-1h14c0.552 0 1 0.448 1 1s-0.448 1-1 1z\"></path>\n",
       "<path d=\"M23 22h-14c-0.552 0-1-0.448-1-1s0.448-1 1-1h14c0.552 0 1 0.448 1 1s-0.448 1-1 1z\"></path>\n",
       "<path d=\"M23 18h-14c-0.552 0-1-0.448-1-1s0.448-1 1-1h14c0.552 0 1 0.448 1 1s-0.448 1-1 1z\"></path>\n",
       "</symbol>\n",
       "</defs>\n",
       "</svg>\n",
       "<style>/* CSS stylesheet for displaying xarray objects in jupyterlab.\n",
       " *\n",
       " */\n",
       "\n",
       ":root {\n",
       "  --xr-font-color0: var(--jp-content-font-color0, rgba(0, 0, 0, 1));\n",
       "  --xr-font-color2: var(--jp-content-font-color2, rgba(0, 0, 0, 0.54));\n",
       "  --xr-font-color3: var(--jp-content-font-color3, rgba(0, 0, 0, 0.38));\n",
       "  --xr-border-color: var(--jp-border-color2, #e0e0e0);\n",
       "  --xr-disabled-color: var(--jp-layout-color3, #bdbdbd);\n",
       "  --xr-background-color: var(--jp-layout-color0, white);\n",
       "  --xr-background-color-row-even: var(--jp-layout-color1, white);\n",
       "  --xr-background-color-row-odd: var(--jp-layout-color2, #eeeeee);\n",
       "}\n",
       "\n",
       "html[theme=dark],\n",
       "body.vscode-dark {\n",
       "  --xr-font-color0: rgba(255, 255, 255, 1);\n",
       "  --xr-font-color2: rgba(255, 255, 255, 0.54);\n",
       "  --xr-font-color3: rgba(255, 255, 255, 0.38);\n",
       "  --xr-border-color: #1F1F1F;\n",
       "  --xr-disabled-color: #515151;\n",
       "  --xr-background-color: #111111;\n",
       "  --xr-background-color-row-even: #111111;\n",
       "  --xr-background-color-row-odd: #313131;\n",
       "}\n",
       "\n",
       ".xr-wrap {\n",
       "  display: block;\n",
       "  min-width: 300px;\n",
       "  max-width: 700px;\n",
       "}\n",
       "\n",
       ".xr-text-repr-fallback {\n",
       "  /* fallback to plain text repr when CSS is not injected (untrusted notebook) */\n",
       "  display: none;\n",
       "}\n",
       "\n",
       ".xr-header {\n",
       "  padding-top: 6px;\n",
       "  padding-bottom: 6px;\n",
       "  margin-bottom: 4px;\n",
       "  border-bottom: solid 1px var(--xr-border-color);\n",
       "}\n",
       "\n",
       ".xr-header > div,\n",
       ".xr-header > ul {\n",
       "  display: inline;\n",
       "  margin-top: 0;\n",
       "  margin-bottom: 0;\n",
       "}\n",
       "\n",
       ".xr-obj-type,\n",
       ".xr-array-name {\n",
       "  margin-left: 2px;\n",
       "  margin-right: 10px;\n",
       "}\n",
       "\n",
       ".xr-obj-type {\n",
       "  color: var(--xr-font-color2);\n",
       "}\n",
       "\n",
       ".xr-sections {\n",
       "  padding-left: 0 !important;\n",
       "  display: grid;\n",
       "  grid-template-columns: 150px auto auto 1fr 20px 20px;\n",
       "}\n",
       "\n",
       ".xr-section-item {\n",
       "  display: contents;\n",
       "}\n",
       "\n",
       ".xr-section-item input {\n",
       "  display: none;\n",
       "}\n",
       "\n",
       ".xr-section-item input + label {\n",
       "  color: var(--xr-disabled-color);\n",
       "}\n",
       "\n",
       ".xr-section-item input:enabled + label {\n",
       "  cursor: pointer;\n",
       "  color: var(--xr-font-color2);\n",
       "}\n",
       "\n",
       ".xr-section-item input:enabled + label:hover {\n",
       "  color: var(--xr-font-color0);\n",
       "}\n",
       "\n",
       ".xr-section-summary {\n",
       "  grid-column: 1;\n",
       "  color: var(--xr-font-color2);\n",
       "  font-weight: 500;\n",
       "}\n",
       "\n",
       ".xr-section-summary > span {\n",
       "  display: inline-block;\n",
       "  padding-left: 0.5em;\n",
       "}\n",
       "\n",
       ".xr-section-summary-in:disabled + label {\n",
       "  color: var(--xr-font-color2);\n",
       "}\n",
       "\n",
       ".xr-section-summary-in + label:before {\n",
       "  display: inline-block;\n",
       "  content: '►';\n",
       "  font-size: 11px;\n",
       "  width: 15px;\n",
       "  text-align: center;\n",
       "}\n",
       "\n",
       ".xr-section-summary-in:disabled + label:before {\n",
       "  color: var(--xr-disabled-color);\n",
       "}\n",
       "\n",
       ".xr-section-summary-in:checked + label:before {\n",
       "  content: '▼';\n",
       "}\n",
       "\n",
       ".xr-section-summary-in:checked + label > span {\n",
       "  display: none;\n",
       "}\n",
       "\n",
       ".xr-section-summary,\n",
       ".xr-section-inline-details {\n",
       "  padding-top: 4px;\n",
       "  padding-bottom: 4px;\n",
       "}\n",
       "\n",
       ".xr-section-inline-details {\n",
       "  grid-column: 2 / -1;\n",
       "}\n",
       "\n",
       ".xr-section-details {\n",
       "  display: none;\n",
       "  grid-column: 1 / -1;\n",
       "  margin-bottom: 5px;\n",
       "}\n",
       "\n",
       ".xr-section-summary-in:checked ~ .xr-section-details {\n",
       "  display: contents;\n",
       "}\n",
       "\n",
       ".xr-array-wrap {\n",
       "  grid-column: 1 / -1;\n",
       "  display: grid;\n",
       "  grid-template-columns: 20px auto;\n",
       "}\n",
       "\n",
       ".xr-array-wrap > label {\n",
       "  grid-column: 1;\n",
       "  vertical-align: top;\n",
       "}\n",
       "\n",
       ".xr-preview {\n",
       "  color: var(--xr-font-color3);\n",
       "}\n",
       "\n",
       ".xr-array-preview,\n",
       ".xr-array-data {\n",
       "  padding: 0 5px !important;\n",
       "  grid-column: 2;\n",
       "}\n",
       "\n",
       ".xr-array-data,\n",
       ".xr-array-in:checked ~ .xr-array-preview {\n",
       "  display: none;\n",
       "}\n",
       "\n",
       ".xr-array-in:checked ~ .xr-array-data,\n",
       ".xr-array-preview {\n",
       "  display: inline-block;\n",
       "}\n",
       "\n",
       ".xr-dim-list {\n",
       "  display: inline-block !important;\n",
       "  list-style: none;\n",
       "  padding: 0 !important;\n",
       "  margin: 0;\n",
       "}\n",
       "\n",
       ".xr-dim-list li {\n",
       "  display: inline-block;\n",
       "  padding: 0;\n",
       "  margin: 0;\n",
       "}\n",
       "\n",
       ".xr-dim-list:before {\n",
       "  content: '(';\n",
       "}\n",
       "\n",
       ".xr-dim-list:after {\n",
       "  content: ')';\n",
       "}\n",
       "\n",
       ".xr-dim-list li:not(:last-child):after {\n",
       "  content: ',';\n",
       "  padding-right: 5px;\n",
       "}\n",
       "\n",
       ".xr-has-index {\n",
       "  font-weight: bold;\n",
       "}\n",
       "\n",
       ".xr-var-list,\n",
       ".xr-var-item {\n",
       "  display: contents;\n",
       "}\n",
       "\n",
       ".xr-var-item > div,\n",
       ".xr-var-item label,\n",
       ".xr-var-item > .xr-var-name span {\n",
       "  background-color: var(--xr-background-color-row-even);\n",
       "  margin-bottom: 0;\n",
       "}\n",
       "\n",
       ".xr-var-item > .xr-var-name:hover span {\n",
       "  padding-right: 5px;\n",
       "}\n",
       "\n",
       ".xr-var-list > li:nth-child(odd) > div,\n",
       ".xr-var-list > li:nth-child(odd) > label,\n",
       ".xr-var-list > li:nth-child(odd) > .xr-var-name span {\n",
       "  background-color: var(--xr-background-color-row-odd);\n",
       "}\n",
       "\n",
       ".xr-var-name {\n",
       "  grid-column: 1;\n",
       "}\n",
       "\n",
       ".xr-var-dims {\n",
       "  grid-column: 2;\n",
       "}\n",
       "\n",
       ".xr-var-dtype {\n",
       "  grid-column: 3;\n",
       "  text-align: right;\n",
       "  color: var(--xr-font-color2);\n",
       "}\n",
       "\n",
       ".xr-var-preview {\n",
       "  grid-column: 4;\n",
       "}\n",
       "\n",
       ".xr-var-name,\n",
       ".xr-var-dims,\n",
       ".xr-var-dtype,\n",
       ".xr-preview,\n",
       ".xr-attrs dt {\n",
       "  white-space: nowrap;\n",
       "  overflow: hidden;\n",
       "  text-overflow: ellipsis;\n",
       "  padding-right: 10px;\n",
       "}\n",
       "\n",
       ".xr-var-name:hover,\n",
       ".xr-var-dims:hover,\n",
       ".xr-var-dtype:hover,\n",
       ".xr-attrs dt:hover {\n",
       "  overflow: visible;\n",
       "  width: auto;\n",
       "  z-index: 1;\n",
       "}\n",
       "\n",
       ".xr-var-attrs,\n",
       ".xr-var-data {\n",
       "  display: none;\n",
       "  background-color: var(--xr-background-color) !important;\n",
       "  padding-bottom: 5px !important;\n",
       "}\n",
       "\n",
       ".xr-var-attrs-in:checked ~ .xr-var-attrs,\n",
       ".xr-var-data-in:checked ~ .xr-var-data {\n",
       "  display: block;\n",
       "}\n",
       "\n",
       ".xr-var-data > table {\n",
       "  float: right;\n",
       "}\n",
       "\n",
       ".xr-var-name span,\n",
       ".xr-var-data,\n",
       ".xr-attrs {\n",
       "  padding-left: 25px !important;\n",
       "}\n",
       "\n",
       ".xr-attrs,\n",
       ".xr-var-attrs,\n",
       ".xr-var-data {\n",
       "  grid-column: 1 / -1;\n",
       "}\n",
       "\n",
       "dl.xr-attrs {\n",
       "  padding: 0;\n",
       "  margin: 0;\n",
       "  display: grid;\n",
       "  grid-template-columns: 125px auto;\n",
       "}\n",
       "\n",
       ".xr-attrs dt,\n",
       ".xr-attrs dd {\n",
       "  padding: 0;\n",
       "  margin: 0;\n",
       "  float: left;\n",
       "  padding-right: 10px;\n",
       "  width: auto;\n",
       "}\n",
       "\n",
       ".xr-attrs dt {\n",
       "  font-weight: normal;\n",
       "  grid-column: 1;\n",
       "}\n",
       "\n",
       ".xr-attrs dt:hover span {\n",
       "  display: inline-block;\n",
       "  background: var(--xr-background-color);\n",
       "  padding-right: 10px;\n",
       "}\n",
       "\n",
       ".xr-attrs dd {\n",
       "  grid-column: 2;\n",
       "  white-space: pre-wrap;\n",
       "  word-break: break-all;\n",
       "}\n",
       "\n",
       ".xr-icon-database,\n",
       ".xr-icon-file-text2 {\n",
       "  display: inline-block;\n",
       "  vertical-align: middle;\n",
       "  width: 1em;\n",
       "  height: 1.5em !important;\n",
       "  stroke-width: 0;\n",
       "  stroke: currentColor;\n",
       "  fill: currentColor;\n",
       "}\n",
       "</style><pre class='xr-text-repr-fallback'>&lt;xarray.Dataset&gt;\n",
       "Dimensions:              (nzmax: 1587, profile: 57)\n",
       "Coordinates:\n",
       "    time                 (profile) datetime64[ns] 2014-08-07T02:02:34.0000028...\n",
       "    lat                  (profile) float64 71.27 71.23 71.18 ... 70.45 70.46\n",
       "    lon                  (profile) float64 -152.2 -152.3 ... -145.8 -145.8\n",
       "    pressure             (profile, nzmax) float64 2.187 2.399 ... -9.999e+03\n",
       "Dimensions without coordinates: nzmax, profile\n",
       "Data variables:\n",
       "    station_name         (profile) |S12 b&#x27;1.01        &#x27; ... b&#x27;T-XA        &#x27;\n",
       "    sal                  (profile, nzmax) float64 24.85 24.85 ... -9.999e+03\n",
       "    tem                  (profile, nzmax) float64 1.625 1.589 ... -9.999e+03\n",
       "    fluoro               (profile, nzmax) float64 0.6842 0.7452 ... -9.999e+03\n",
       "    turbidity            (profile, nzmax) float64 0.604 0.6895 ... -9.999e+03\n",
       "    PAR                  (profile, nzmax) float64 9.596 9.097 ... -9.999e+03\n",
       "    platform_variable    float64 9.969e+36\n",
       "    instrument_variable  float64 9.969e+36\n",
       "    crs                  float64 9.969e+36\n",
       "Attributes: (12/35)\n",
       "    Conventions:                CF-1.6\n",
       "    Metadata_Conventions:       Unidata Dataset Discovery v1.0\n",
       "    featureType:                profile\n",
       "    cdm_data_type:              Station\n",
       "    nodc_template_version:      NODC_NetCDF_Profile_Incomplete_Templete_v1.1\n",
       "    standard_name_vocabulary:   NetCDF Climate and Forecast(CF) Metadata Conv...\n",
       "    ...                         ...\n",
       "    keywords:                   OCEAN TEMPERATURE,SALINITY,TURBIDITY,WATER PR...\n",
       "    acknowledgement:            Kasper, J., CTD measurements collected from s...\n",
       "    publisher_name:             Tim Whiteaker\n",
       "    publisher_email:            whiteaker@utexas.edu\n",
       "    publisher_url:              http://arcticstudies.org/animida_iii\n",
       "    license:                    Creative Commons Attribution 3.0 United State...</pre><div class='xr-wrap' hidden><div class='xr-header'><div class='xr-obj-type'>xarray.Dataset</div></div><ul class='xr-sections'><li class='xr-section-item'><input id='section-4c24a8d0-17bf-4cbb-9a86-989b755eabe9' class='xr-section-summary-in' type='checkbox' disabled ><label for='section-4c24a8d0-17bf-4cbb-9a86-989b755eabe9' class='xr-section-summary'  title='Expand/collapse section'>Dimensions:</label><div class='xr-section-inline-details'><ul class='xr-dim-list'><li><span>nzmax</span>: 1587</li><li><span>profile</span>: 57</li></ul></div><div class='xr-section-details'></div></li><li class='xr-section-item'><input id='section-22133f6f-9d89-47f0-8529-67c1705e093a' class='xr-section-summary-in' type='checkbox'  checked><label for='section-22133f6f-9d89-47f0-8529-67c1705e093a' class='xr-section-summary' >Coordinates: <span>(4)</span></label><div class='xr-section-inline-details'></div><div class='xr-section-details'><ul class='xr-var-list'><li class='xr-var-item'><div class='xr-var-name'><span>time</span></div><div class='xr-var-dims'>(profile)</div><div class='xr-var-dtype'>datetime64[ns]</div><div class='xr-var-preview xr-preview'>2014-08-07T02:02:34.000002890 .....</div><input id='attrs-7890a2bb-4f3d-4ebe-af09-eaf07ca94bf1' class='xr-var-attrs-in' type='checkbox' ><label for='attrs-7890a2bb-4f3d-4ebe-af09-eaf07ca94bf1' title='Show/Hide attributes'><svg class='icon xr-icon-file-text2'><use xlink:href='#icon-file-text2'></use></svg></label><input id='data-836ecd80-c565-44b8-985d-25c44f80aca1' class='xr-var-data-in' type='checkbox'><label for='data-836ecd80-c565-44b8-985d-25c44f80aca1' title='Show/Hide data repr'><svg class='icon xr-icon-database'><use xlink:href='#icon-database'></use></svg></label><div class='xr-var-attrs'><dl class='xr-attrs'><dt><span>long_name :</span></dt><dd>Time</dd><dt><span>standard_name :</span></dt><dd>time</dd><dt><span>axis :</span></dt><dd>T</dd></dl></div><div class='xr-var-data'><pre>array([&#x27;2014-08-07T02:02:34.000002890&#x27;, &#x27;2014-08-07T02:31:30.999995917&#x27;,\n",
       "       &#x27;2014-08-07T03:04:34.999997019&#x27;, &#x27;2014-08-07T03:44:35.000004842&#x27;,\n",
       "       &#x27;2014-08-07T05:30:49.000002443&#x27;, &#x27;2014-08-07T06:43:14.999996200&#x27;,\n",
       "       &#x27;2014-08-07T07:51:52.000004947&#x27;, &#x27;2014-08-07T08:41:06.999999806&#x27;,\n",
       "       &#x27;2014-08-07T09:38:47.999996021&#x27;, &#x27;2014-08-07T10:24:33.999997973&#x27;,\n",
       "       &#x27;2014-08-07T11:08:58.999996706&#x27;, &#x27;2014-08-07T11:57:20.000002831&#x27;,\n",
       "       &#x27;2014-08-07T12:58:43.999996483&#x27;, &#x27;2014-08-07T14:00:17.000001668&#x27;,\n",
       "       &#x27;2014-08-06T21:46:32.000003904&#x27;, &#x27;2014-08-06T23:56:41.999997720&#x27;,\n",
       "       &#x27;2014-08-01T07:51:47.000001892&#x27;, &#x27;2014-08-05T11:06:11.999997273&#x27;,\n",
       "       &#x27;2014-08-05T14:31:20.999999865&#x27;, &#x27;2014-08-05T07:19:40.000003427&#x27;,\n",
       "       &#x27;2014-08-05T03:39:31.999998763&#x27;, &#x27;2014-08-04T23:54:28.000000342&#x27;,\n",
       "       &#x27;2014-08-02T15:00:31.999997422&#x27;, &#x27;2014-08-04T05:47:36.999996677&#x27;,\n",
       "       &#x27;2014-08-04T09:42:31.000003516&#x27;, &#x27;2014-08-02T19:28:25.000002309&#x27;,\n",
       "       &#x27;2014-08-02T22:45:06.999998912&#x27;, &#x27;2014-08-03T03:35:26.999999955&#x27;,\n",
       "       &#x27;2014-08-03T13:01:52.999997288&#x27;, &#x27;2014-08-03T09:12:38.000002428&#x27;,\n",
       "       &#x27;2014-08-03T16:41:24.999996051&#x27;, &#x27;2014-08-04T13:25:18.000000715&#x27;,\n",
       "       &#x27;2014-07-31T20:06:57.999999225&#x27;, &#x27;2014-08-06T11:58:55.000000521&#x27;,\n",
       "       &#x27;2014-08-07T17:54:20.000003501&#x27;, &#x27;2014-08-01T12:02:37.000003382&#x27;,\n",
       "       &#x27;2014-08-01T19:54:32.000002115&#x27;, &#x27;2014-08-06T19:33:12.000004649&#x27;,\n",
       "       &#x27;2014-08-06T17:13:42.999995201&#x27;, &#x27;2014-08-06T04:18:59.999999105&#x27;,\n",
       "       &#x27;2014-07-31T16:05:03.000002726&#x27;, &#x27;2014-07-31T21:53:57.000004202&#x27;,\n",
       "       &#x27;2014-08-06T08:43:29.000004082&#x27;, &#x27;2014-08-01T02:10:38.000002875&#x27;,\n",
       "       &#x27;2014-08-05T20:54:18.999998867&#x27;, &#x27;2014-08-05T17:52:53.000002652&#x27;,\n",
       "       &#x27;2014-07-31T15:33:33.999999314&#x27;, &#x27;2014-08-02T06:48:27.999998331&#x27;,\n",
       "       &#x27;2014-08-02T01:29:06.000001207&#x27;, &#x27;2014-08-02T06:06:59.999995082&#x27;,\n",
       "       &#x27;2014-08-02T05:05:41.000004485&#x27;, &#x27;2014-08-02T02:48:15.000001788&#x27;,\n",
       "       &#x27;2014-08-02T11:58:45.999999046&#x27;, &#x27;2014-08-07T21:35:54.000004381&#x27;,\n",
       "       &#x27;2014-08-02T07:29:54.999996945&#x27;, &#x27;2014-08-02T08:46:09.000001251&#x27;,\n",
       "       &#x27;2014-08-02T10:39:29.000001624&#x27;], dtype=&#x27;datetime64[ns]&#x27;)</pre></div></li><li class='xr-var-item'><div class='xr-var-name'><span>lat</span></div><div class='xr-var-dims'>(profile)</div><div class='xr-var-dtype'>float64</div><div class='xr-var-preview xr-preview'>71.27 71.23 71.18 ... 70.45 70.46</div><input id='attrs-9b209040-408c-41bb-9f1e-025d66986eee' class='xr-var-attrs-in' type='checkbox' ><label for='attrs-9b209040-408c-41bb-9f1e-025d66986eee' title='Show/Hide attributes'><svg class='icon xr-icon-file-text2'><use xlink:href='#icon-file-text2'></use></svg></label><input id='data-35c5eac1-f04d-4c7d-b32b-0a81cc15068b' class='xr-var-data-in' type='checkbox'><label for='data-35c5eac1-f04d-4c7d-b32b-0a81cc15068b' title='Show/Hide data repr'><svg class='icon xr-icon-database'><use xlink:href='#icon-database'></use></svg></label><div class='xr-var-attrs'><dl class='xr-attrs'><dt><span>long_name :</span></dt><dd>Latitude</dd><dt><span>standard_name :</span></dt><dd>latitude</dd><dt><span>units :</span></dt><dd>degrees_north</dd><dt><span>axis :</span></dt><dd>Y</dd></dl></div><div class='xr-var-data'><pre>array([71.27225956, 71.22546608, 71.1828751 , 71.11893327, 71.07164454,\n",
       "       71.01888685, 70.95546243, 70.90777605, 70.85752238, 70.81290955,\n",
       "       70.77344161, 70.72899046, 70.67407551, 70.63143392, 71.48825494,\n",
       "       71.3200445 , 70.71264365, 70.88461349, 71.11719392, 70.67183686,\n",
       "       70.64589157, 70.73439543, 70.33155618, 70.06498806, 70.1456518 ,\n",
       "       70.35776341, 70.27504723, 70.19071299, 70.00356447, 70.26059707,\n",
       "       69.85087388, 70.15870796, 70.67175168, 70.95305402, 70.58023353,\n",
       "       70.63878476, 70.43679492, 71.40786111, 71.28257336, 70.67243945,\n",
       "       70.75055769, 70.84894449, 70.91312332, 70.75745466, 70.96323434,\n",
       "       71.2054922 , 70.74851899, 70.36377752, 70.42197757, 70.36001923,\n",
       "       70.31633163, 70.36482493, 70.53614961, 70.50559223, 70.38211278,\n",
       "       70.45137916, 70.45610999])</pre></div></li><li class='xr-var-item'><div class='xr-var-name'><span>lon</span></div><div class='xr-var-dims'>(profile)</div><div class='xr-var-dtype'>float64</div><div class='xr-var-preview xr-preview'>-152.2 -152.3 ... -145.8 -145.8</div><input id='attrs-a5d33786-a781-4757-9b0a-50307695104e' class='xr-var-attrs-in' type='checkbox' ><label for='attrs-a5d33786-a781-4757-9b0a-50307695104e' title='Show/Hide attributes'><svg class='icon xr-icon-file-text2'><use xlink:href='#icon-file-text2'></use></svg></label><input id='data-d603884c-2c41-4ae9-91dd-e04ceb736889' class='xr-var-data-in' type='checkbox'><label for='data-d603884c-2c41-4ae9-91dd-e04ceb736889' title='Show/Hide data repr'><svg class='icon xr-icon-database'><use xlink:href='#icon-database'></use></svg></label><div class='xr-var-attrs'><dl class='xr-attrs'><dt><span>long_name :</span></dt><dd>Longitude</dd><dt><span>standard_name :</span></dt><dd>longitude</dd><dt><span>units :</span></dt><dd>degrees_east</dd><dt><span>axis :</span></dt><dd>X</dd></dl></div><div class='xr-var-data'><pre>array([-152.18736186, -152.26558414, -152.36990205, -152.47346189,\n",
       "       -152.58111431, -152.28765531, -151.92403401, -151.67217388,\n",
       "       -151.41466334, -151.19357953, -150.96530218, -150.75113539,\n",
       "       -150.48551697, -150.22267472, -152.09878182, -152.09031571,\n",
       "       -148.76676686, -148.13566522, -148.10803545, -147.59097709,\n",
       "       -146.66101925, -145.90928921, -145.33509426, -144.77811194,\n",
       "       -144.79985958, -144.49358368, -143.90994133, -142.90462939,\n",
       "       -141.96291807, -141.76024626, -141.71743821, -145.32177925,\n",
       "       -150.15522639, -151.35422264, -148.93345328, -149.27168521,\n",
       "       -147.34319735, -151.56710266, -151.55962152, -151.18764268,\n",
       "       -150.46985537, -150.06153782, -151.99511685, -149.44081914,\n",
       "       -148.99688393, -149.03136448, -150.47462316, -146.01765707,\n",
       "       -146.18176652, -145.9058253 , -146.08181184, -146.11831133,\n",
       "       -145.7092749 , -148.71190803, -145.98302287, -145.83675661,\n",
       "       -145.80932285])</pre></div></li><li class='xr-var-item'><div class='xr-var-name'><span>pressure</span></div><div class='xr-var-dims'>(profile, nzmax)</div><div class='xr-var-dtype'>float64</div><div class='xr-var-preview xr-preview'>2.187 2.399 ... -9.999e+03</div><input id='attrs-941f8ae2-4a3e-455c-8142-cf7c71dce075' class='xr-var-attrs-in' type='checkbox' ><label for='attrs-941f8ae2-4a3e-455c-8142-cf7c71dce075' title='Show/Hide attributes'><svg class='icon xr-icon-file-text2'><use xlink:href='#icon-file-text2'></use></svg></label><input id='data-98079b3e-9eec-4a68-b38b-4113c172c9e5' class='xr-var-data-in' type='checkbox'><label for='data-98079b3e-9eec-4a68-b38b-4113c172c9e5' title='Show/Hide data repr'><svg class='icon xr-icon-database'><use xlink:href='#icon-database'></use></svg></label><div class='xr-var-attrs'><dl class='xr-attrs'><dt><span>long_name :</span></dt><dd>pressure</dd><dt><span>units :</span></dt><dd>decibars</dd><dt><span>standard_name :</span></dt><dd>sea_water_pressure</dd><dt><span>nodc_name :</span></dt><dd>HYDROSTATIC PRESSURE</dd><dt><span>FillValue :</span></dt><dd>-9999.0</dd><dt><span>axis :</span></dt><dd>Z</dd><dt><span>positive :</span></dt><dd>down</dd></dl></div><div class='xr-var-data'><pre>array([[ 2.187e+00,  2.399e+00,  2.622e+00, ..., -9.999e+03, -9.999e+03,\n",
       "        -9.999e+03],\n",
       "       [ 2.093e+00,  2.232e+00,  2.382e+00, ..., -9.999e+03, -9.999e+03,\n",
       "        -9.999e+03],\n",
       "       [ 2.070e+00,  2.212e+00,  2.366e+00, ..., -9.999e+03, -9.999e+03,\n",
       "        -9.999e+03],\n",
       "       ...,\n",
       "       [ 2.009e+00,  2.022e+00,  2.038e+00, ..., -9.999e+03, -9.999e+03,\n",
       "        -9.999e+03],\n",
       "       [ 2.021e+00,  2.081e+00,  2.159e+00, ..., -9.999e+03, -9.999e+03,\n",
       "        -9.999e+03],\n",
       "       [ 2.017e+00,  2.087e+00,  2.174e+00, ..., -9.999e+03, -9.999e+03,\n",
       "        -9.999e+03]])</pre></div></li></ul></div></li><li class='xr-section-item'><input id='section-91523136-9a96-4242-9f6b-dbc18052ab73' class='xr-section-summary-in' type='checkbox'  checked><label for='section-91523136-9a96-4242-9f6b-dbc18052ab73' class='xr-section-summary' >Data variables: <span>(9)</span></label><div class='xr-section-inline-details'></div><div class='xr-section-details'><ul class='xr-var-list'><li class='xr-var-item'><div class='xr-var-name'><span>station_name</span></div><div class='xr-var-dims'>(profile)</div><div class='xr-var-dtype'>|S12</div><div class='xr-var-preview xr-preview'>b&#x27;1.01        &#x27; ... b&#x27;T-XA        &#x27;</div><input id='attrs-68f18fdf-1c49-4169-8b7e-fcc74778a53c' class='xr-var-attrs-in' type='checkbox' ><label for='attrs-68f18fdf-1c49-4169-8b7e-fcc74778a53c' title='Show/Hide attributes'><svg class='icon xr-icon-file-text2'><use xlink:href='#icon-file-text2'></use></svg></label><input id='data-67443c8e-36d5-4674-8f59-63ede3a8e3e7' class='xr-var-data-in' type='checkbox'><label for='data-67443c8e-36d5-4674-8f59-63ede3a8e3e7' title='Show/Hide data repr'><svg class='icon xr-icon-database'><use xlink:href='#icon-database'></use></svg></label><div class='xr-var-attrs'><dl class='xr-attrs'><dt><span>long_name :</span></dt><dd>Official station name</dd></dl></div><div class='xr-var-data'><pre>array([b&#x27;1.01        &#x27;, b&#x27;1.02        &#x27;, b&#x27;1.03        &#x27;, b&#x27;1.04        &#x27;,\n",
       "       b&#x27;1.05        &#x27;, b&#x27;1.06        &#x27;, b&#x27;1.07        &#x27;, b&#x27;1.08        &#x27;,\n",
       "       b&#x27;1.09        &#x27;, b&#x27;1.10        &#x27;, b&#x27;1.11        &#x27;, b&#x27;1.12        &#x27;,\n",
       "       b&#x27;1.13        &#x27;, b&#x27;1.14        &#x27;, b&#x27;1.2         &#x27;, b&#x27;1           &#x27;,\n",
       "       b&#x27;10          &#x27;, b&#x27;11          &#x27;, b&#x27;11A         &#x27;, b&#x27;12          &#x27;,\n",
       "       b&#x27;15          &#x27;, b&#x27;16          &#x27;, b&#x27;18          &#x27;, b&#x27;1B          &#x27;,\n",
       "       b&#x27;1C          &#x27;, b&#x27;20          &#x27;, b&#x27;21          &#x27;, b&#x27;22          &#x27;,\n",
       "       b&#x27;23          &#x27;, b&#x27;24          &#x27;, b&#x27;25          &#x27;, b&#x27;2C          &#x27;,\n",
       "       b&#x27;4           &#x27;, b&#x27;5           &#x27;, b&#x27;5B          &#x27;, b&#x27;5E          &#x27;,\n",
       "       b&#x27;5-5         &#x27;, b&#x27;6.1         &#x27;, b&#x27;6           &#x27;, b&#x27;6F          &#x27;,\n",
       "       b&#x27;6d-2        &#x27;, b&#x27;7           &#x27;, b&#x27;7C          &#x27;, b&#x27;8           &#x27;,\n",
       "       b&#x27;9           &#x27;, b&#x27;9A          &#x27;, b&#x27;AOOS Mooring&#x27;, b&#x27;HH1-5       &#x27;,\n",
       "       b&#x27;Hex-1       &#x27;, b&#x27;Hex-12      &#x27;, b&#x27;Hex-17      &#x27;, b&#x27;L250-5      &#x27;,\n",
       "       b&#x27;M-4         &#x27;, b&#x27;N03         &#x27;, b&#x27;S-XA        &#x27;, b&#x27;T-3         &#x27;,\n",
       "       b&#x27;T-XA        &#x27;], dtype=&#x27;|S12&#x27;)</pre></div></li><li class='xr-var-item'><div class='xr-var-name'><span>sal</span></div><div class='xr-var-dims'>(profile, nzmax)</div><div class='xr-var-dtype'>float64</div><div class='xr-var-preview xr-preview'>24.85 24.85 ... -9.999e+03</div><input id='attrs-ef4c4350-5bd0-45ea-ad15-ba08b2d7001f' class='xr-var-attrs-in' type='checkbox' ><label for='attrs-ef4c4350-5bd0-45ea-ad15-ba08b2d7001f' title='Show/Hide attributes'><svg class='icon xr-icon-file-text2'><use xlink:href='#icon-file-text2'></use></svg></label><input id='data-70624609-c440-48b0-8788-73a6e494b188' class='xr-var-data-in' type='checkbox'><label for='data-70624609-c440-48b0-8788-73a6e494b188' title='Show/Hide data repr'><svg class='icon xr-icon-database'><use xlink:href='#icon-database'></use></svg></label><div class='xr-var-attrs'><dl class='xr-attrs'><dt><span>long_name :</span></dt><dd>practical salinity</dd><dt><span>units :</span></dt><dd>PSU</dd><dt><span>standard_name :</span></dt><dd>sea_water_salinity</dd><dt><span>nodc_name :</span></dt><dd>SALINITY</dd><dt><span>FillValue :</span></dt><dd>-9999.0</dd><dt><span>grid_mapping :</span></dt><dd>crs</dd><dt><span>cell_methods :</span></dt><dd>time:point lon:point lat:point pressure:point</dd></dl></div><div class='xr-var-data'><pre>array([[   24.84961837,    24.85368677,    24.89387348, ...,\n",
       "        -9999.        , -9999.        , -9999.        ],\n",
       "       [-9999.        , -9999.        ,    22.11890858, ...,\n",
       "        -9999.        , -9999.        , -9999.        ],\n",
       "       [   20.28840937,    20.38098995,    20.5835275 , ...,\n",
       "        -9999.        , -9999.        , -9999.        ],\n",
       "       ...,\n",
       "       [-9999.        , -9999.        , -9999.        , ...,\n",
       "        -9999.        , -9999.        , -9999.        ],\n",
       "       [   17.69904968,    17.70329302,    17.69904834, ...,\n",
       "        -9999.        , -9999.        , -9999.        ],\n",
       "       [   18.63613017,    18.71405916,    18.79754556, ...,\n",
       "        -9999.        , -9999.        , -9999.        ]])</pre></div></li><li class='xr-var-item'><div class='xr-var-name'><span>tem</span></div><div class='xr-var-dims'>(profile, nzmax)</div><div class='xr-var-dtype'>float64</div><div class='xr-var-preview xr-preview'>1.625 1.589 ... -9.999e+03</div><input id='attrs-e9e4cf4f-fafc-47a8-b990-e25715693232' class='xr-var-attrs-in' type='checkbox' ><label for='attrs-e9e4cf4f-fafc-47a8-b990-e25715693232' title='Show/Hide attributes'><svg class='icon xr-icon-file-text2'><use xlink:href='#icon-file-text2'></use></svg></label><input id='data-2d3db110-9b00-49db-86be-9d8a1098c5fc' class='xr-var-data-in' type='checkbox'><label for='data-2d3db110-9b00-49db-86be-9d8a1098c5fc' title='Show/Hide data repr'><svg class='icon xr-icon-database'><use xlink:href='#icon-database'></use></svg></label><div class='xr-var-attrs'><dl class='xr-attrs'><dt><span>long_name :</span></dt><dd>temperature</dd><dt><span>units :</span></dt><dd>degree_Celsius</dd><dt><span>standard_name :</span></dt><dd>sea_water_temperature</dd><dt><span>nodc_name :</span></dt><dd>WATER TEMPERATURE</dd><dt><span>FillValue :</span></dt><dd>-9999.0</dd><dt><span>grid_mapping :</span></dt><dd>crs</dd><dt><span>cell_methods :</span></dt><dd>time:point lon:point lat:point pressure:point</dd></dl></div><div class='xr-var-data'><pre>array([[ 1.6247e+00,  1.5893e+00,  1.5133e+00, ..., -9.9990e+03,\n",
       "        -9.9990e+03, -9.9990e+03],\n",
       "       [ 1.9580e+00,  1.9317e+00,  1.8825e+00, ..., -9.9990e+03,\n",
       "        -9.9990e+03, -9.9990e+03],\n",
       "       [ 2.5943e+00,  2.4718e+00,  2.2398e+00, ..., -9.9990e+03,\n",
       "        -9.9990e+03, -9.9990e+03],\n",
       "       ...,\n",
       "       [-9.9990e+03, -9.9990e+03, -9.9990e+03, ..., -9.9990e+03,\n",
       "        -9.9990e+03, -9.9990e+03],\n",
       "       [ 1.5620e+00,  1.5533e+00,  1.5614e+00, ..., -9.9990e+03,\n",
       "        -9.9990e+03, -9.9990e+03],\n",
       "       [ 1.7342e+00,  1.7512e+00,  1.7733e+00, ..., -9.9990e+03,\n",
       "        -9.9990e+03, -9.9990e+03]])</pre></div></li><li class='xr-var-item'><div class='xr-var-name'><span>fluoro</span></div><div class='xr-var-dims'>(profile, nzmax)</div><div class='xr-var-dtype'>float64</div><div class='xr-var-preview xr-preview'>0.6842 0.7452 ... -9.999e+03</div><input id='attrs-1f006173-1665-486b-b0f3-cd2aa44c16b8' class='xr-var-attrs-in' type='checkbox' ><label for='attrs-1f006173-1665-486b-b0f3-cd2aa44c16b8' title='Show/Hide attributes'><svg class='icon xr-icon-file-text2'><use xlink:href='#icon-file-text2'></use></svg></label><input id='data-2aab7467-6b29-448f-9909-a53c9d9e489e' class='xr-var-data-in' type='checkbox'><label for='data-2aab7467-6b29-448f-9909-a53c9d9e489e' title='Show/Hide data repr'><svg class='icon xr-icon-database'><use xlink:href='#icon-database'></use></svg></label><div class='xr-var-attrs'><dl class='xr-attrs'><dt><span>long_name :</span></dt><dd>fluorescence</dd><dt><span>units :</span></dt><dd>milligram per m^3</dd><dt><span>nodc_name :</span></dt><dd>FLUORESCENCE</dd><dt><span>FillValue :</span></dt><dd>-9999.0</dd><dt><span>grid_mapping :</span></dt><dd>crs</dd><dt><span>cell_methods :</span></dt><dd>time:point lon:point lat:point pressure:point</dd></dl></div><div class='xr-var-data'><pre>array([[ 6.842e-01,  7.452e-01,  7.574e-01, ..., -9.999e+03, -9.999e+03,\n",
       "        -9.999e+03],\n",
       "       [ 4.277e-01,  4.400e-01,  4.400e-01, ..., -9.999e+03, -9.999e+03,\n",
       "        -9.999e+03],\n",
       "       [ 8.185e-01,  8.063e-01,  8.063e-01, ..., -9.999e+03, -9.999e+03,\n",
       "        -9.999e+03],\n",
       "       ...,\n",
       "       [ 4.766e-01,  4.766e-01,  4.644e-01, ..., -9.999e+03, -9.999e+03,\n",
       "        -9.999e+03],\n",
       "       [ 6.109e-01,  6.109e-01,  6.231e-01, ..., -9.999e+03, -9.999e+03,\n",
       "        -9.999e+03],\n",
       "       [ 4.644e-01,  4.766e-01,  4.644e-01, ..., -9.999e+03, -9.999e+03,\n",
       "        -9.999e+03]])</pre></div></li><li class='xr-var-item'><div class='xr-var-name'><span>turbidity</span></div><div class='xr-var-dims'>(profile, nzmax)</div><div class='xr-var-dtype'>float64</div><div class='xr-var-preview xr-preview'>0.604 0.6895 ... -9.999e+03</div><input id='attrs-671c0e8f-6306-467d-bb01-f54755da157b' class='xr-var-attrs-in' type='checkbox' ><label for='attrs-671c0e8f-6306-467d-bb01-f54755da157b' title='Show/Hide attributes'><svg class='icon xr-icon-file-text2'><use xlink:href='#icon-file-text2'></use></svg></label><input id='data-91b44818-10d7-4a86-a12f-6003a5d3ee77' class='xr-var-data-in' type='checkbox'><label for='data-91b44818-10d7-4a86-a12f-6003a5d3ee77' title='Show/Hide data repr'><svg class='icon xr-icon-database'><use xlink:href='#icon-database'></use></svg></label><div class='xr-var-attrs'><dl class='xr-attrs'><dt><span>long_name :</span></dt><dd>turbidity</dd><dt><span>units :</span></dt><dd>NTU</dd><dt><span>standard_name :</span></dt><dd>sea_water_turbidity</dd><dt><span>nodc_name :</span></dt><dd>TURBIDITY</dd><dt><span>FillValue :</span></dt><dd>-9999.0</dd><dt><span>grid_mapping :</span></dt><dd>crs</dd><dt><span>cell_methods :</span></dt><dd>time:point lon:point lat:point pressure:point</dd></dl></div><div class='xr-var-data'><pre>array([[ 6.0400e-01,  6.8950e-01,  6.8340e-01, ..., -9.9990e+03,\n",
       "        -9.9990e+03, -9.9990e+03],\n",
       "       [ 7.6270e-01,  7.6270e-01,  7.5660e-01, ..., -9.9990e+03,\n",
       "        -9.9990e+03, -9.9990e+03],\n",
       "       [ 1.0314e+00,  1.0436e+00,  1.0924e+00, ..., -9.9990e+03,\n",
       "        -9.9990e+03, -9.9990e+03],\n",
       "       ...,\n",
       "       [ 6.6510e-01,  6.6510e-01,  6.4060e-01, ..., -9.9990e+03,\n",
       "        -9.9990e+03, -9.9990e+03],\n",
       "       [ 6.8340e-01,  6.8950e-01,  6.7730e-01, ..., -9.9990e+03,\n",
       "        -9.9990e+03, -9.9990e+03],\n",
       "       [ 6.2840e-01,  6.1620e-01,  6.2840e-01, ..., -9.9990e+03,\n",
       "        -9.9990e+03, -9.9990e+03]])</pre></div></li><li class='xr-var-item'><div class='xr-var-name'><span>PAR</span></div><div class='xr-var-dims'>(profile, nzmax)</div><div class='xr-var-dtype'>float64</div><div class='xr-var-preview xr-preview'>9.596 9.097 ... -9.999e+03</div><input id='attrs-8dde7f74-f800-4ee9-8cb3-a3923007990e' class='xr-var-attrs-in' type='checkbox' ><label for='attrs-8dde7f74-f800-4ee9-8cb3-a3923007990e' title='Show/Hide attributes'><svg class='icon xr-icon-file-text2'><use xlink:href='#icon-file-text2'></use></svg></label><input id='data-0c5590b3-0cf6-4351-bceb-e29dfda7dcd3' class='xr-var-data-in' type='checkbox'><label for='data-0c5590b3-0cf6-4351-bceb-e29dfda7dcd3' title='Show/Hide data repr'><svg class='icon xr-icon-database'><use xlink:href='#icon-database'></use></svg></label><div class='xr-var-attrs'><dl class='xr-attrs'><dt><span>long_name :</span></dt><dd>PAR/irraddiance</dd><dt><span>units :</span></dt><dd>watts per m^2</dd><dt><span>nodc_name :</span></dt><dd>PHOTOSYNTHETIC ACTIVE RADIATION (PAR)</dd><dt><span>FillValue :</span></dt><dd>-9999.0</dd><dt><span>grid_mapping :</span></dt><dd>crs</dd><dt><span>cell_methods :</span></dt><dd>time:point lon:point lat:point pressure:point</dd></dl></div><div class='xr-var-data'><pre>array([[ 9.5961e+00,  9.0970e+00,  8.5034e+00, ..., -9.9990e+03,\n",
       "        -9.9990e+03, -9.9990e+03],\n",
       "       [ 1.1916e+01,  1.0559e+01,  9.3827e+00, ..., -9.9990e+03,\n",
       "        -9.9990e+03, -9.9990e+03],\n",
       "       [ 1.1264e+01,  1.0009e+01,  8.8200e+00, ..., -9.9990e+03,\n",
       "        -9.9990e+03, -9.9990e+03],\n",
       "       ...,\n",
       "       [ 2.2305e-01,  2.2180e-01,  2.1993e-01, ..., -9.9990e+03,\n",
       "        -9.9990e+03, -9.9990e+03],\n",
       "       [ 8.4557e-02,  8.4557e-02,  8.4557e-02, ..., -9.9990e+03,\n",
       "        -9.9990e+03, -9.9990e+03],\n",
       "       [ 4.4667e-02,  4.5940e-02,  4.3796e-02, ..., -9.9990e+03,\n",
       "        -9.9990e+03, -9.9990e+03]])</pre></div></li><li class='xr-var-item'><div class='xr-var-name'><span>platform_variable</span></div><div class='xr-var-dims'>()</div><div class='xr-var-dtype'>float64</div><div class='xr-var-preview xr-preview'>9.969e+36</div><input id='attrs-88a9833c-319e-434d-8ddf-411e04c26cce' class='xr-var-attrs-in' type='checkbox' ><label for='attrs-88a9833c-319e-434d-8ddf-411e04c26cce' title='Show/Hide attributes'><svg class='icon xr-icon-file-text2'><use xlink:href='#icon-file-text2'></use></svg></label><input id='data-8b88e816-6e99-4eb0-9f3f-4f52783b25ce' class='xr-var-data-in' type='checkbox'><label for='data-8b88e816-6e99-4eb0-9f3f-4f52783b25ce' title='Show/Hide data repr'><svg class='icon xr-icon-database'><use xlink:href='#icon-database'></use></svg></label><div class='xr-var-attrs'><dl class='xr-attrs'><dt><span>long_name :</span></dt><dd>Norseman II</dd><dt><span>call_sign :</span></dt><dd>WDD6688</dd><dt><span>nodc_code :</span></dt><dd>32QO</dd><dt><span>imo_code :</span></dt><dd>7908122</dd></dl></div><div class='xr-var-data'><pre>array(9.96920997e+36)</pre></div></li><li class='xr-var-item'><div class='xr-var-name'><span>instrument_variable</span></div><div class='xr-var-dims'>()</div><div class='xr-var-dtype'>float64</div><div class='xr-var-preview xr-preview'>9.969e+36</div><input id='attrs-63f8f963-eb68-48ff-9b23-9ebce58233f0' class='xr-var-attrs-in' type='checkbox' ><label for='attrs-63f8f963-eb68-48ff-9b23-9ebce58233f0' title='Show/Hide attributes'><svg class='icon xr-icon-file-text2'><use xlink:href='#icon-file-text2'></use></svg></label><input id='data-cf727c90-660f-499c-b330-fc3681cd6c65' class='xr-var-data-in' type='checkbox'><label for='data-cf727c90-660f-499c-b330-fc3681cd6c65' title='Show/Hide data repr'><svg class='icon xr-icon-database'><use xlink:href='#icon-database'></use></svg></label><div class='xr-var-attrs'><dl class='xr-attrs'><dt><span>long_name :</span></dt><dd>SBE 25plus Sealogger CTD</dd><dt><span>manufacturer :</span></dt><dd>Sea-Bird Electronics</dd></dl></div><div class='xr-var-data'><pre>array(9.96920997e+36)</pre></div></li><li class='xr-var-item'><div class='xr-var-name'><span>crs</span></div><div class='xr-var-dims'>()</div><div class='xr-var-dtype'>float64</div><div class='xr-var-preview xr-preview'>9.969e+36</div><input id='attrs-bf1f6e11-0067-4862-884a-c3dbc242239f' class='xr-var-attrs-in' type='checkbox' ><label for='attrs-bf1f6e11-0067-4862-884a-c3dbc242239f' title='Show/Hide attributes'><svg class='icon xr-icon-file-text2'><use xlink:href='#icon-file-text2'></use></svg></label><input id='data-164aa44f-69de-4f93-a2bf-baf370913c43' class='xr-var-data-in' type='checkbox'><label for='data-164aa44f-69de-4f93-a2bf-baf370913c43' title='Show/Hide data repr'><svg class='icon xr-icon-database'><use xlink:href='#icon-database'></use></svg></label><div class='xr-var-attrs'><dl class='xr-attrs'><dt><span>grid_mapping_name :</span></dt><dd>latitude_longitude</dd><dt><span>epsg_code :</span></dt><dd>EPSG:4326</dd><dt><span>semi_major_axis :</span></dt><dd>6378137.0</dd><dt><span>inverse_flattening :</span></dt><dd>298.257223563</dd></dl></div><div class='xr-var-data'><pre>array(9.96920997e+36)</pre></div></li></ul></div></li><li class='xr-section-item'><input id='section-85578909-b933-4dd1-b100-39c3795b35a0' class='xr-section-summary-in' type='checkbox'  ><label for='section-85578909-b933-4dd1-b100-39c3795b35a0' class='xr-section-summary' >Attributes: <span>(35)</span></label><div class='xr-section-inline-details'></div><div class='xr-section-details'><dl class='xr-attrs'><dt><span>Conventions :</span></dt><dd>CF-1.6</dd><dt><span>Metadata_Conventions :</span></dt><dd>Unidata Dataset Discovery v1.0</dd><dt><span>featureType :</span></dt><dd>profile</dd><dt><span>cdm_data_type :</span></dt><dd>Station</dd><dt><span>nodc_template_version :</span></dt><dd>NODC_NetCDF_Profile_Incomplete_Templete_v1.1</dd><dt><span>standard_name_vocabulary :</span></dt><dd>NetCDF Climate and Forecast(CF) Metadata Convention Standard Name Table Version 29</dd><dt><span>title :</span></dt><dd>Seawater CTD profiles from ANIMIDA III, 2014</dd><dt><span>summary :</span></dt><dd>CTD casts from the Alaskan Beaufort Sea during the research cruise for the ANIMIDA III project in the summer of 2014</dd><dt><span>source :</span></dt><dd>CTD casts from the Alaskan Beaufort Sea</dd><dt><span>platform :</span></dt><dd>platform_variable</dd><dt><span>instrument :</span></dt><dd>instrument_variable</dd><dt><span>sea_name :</span></dt><dd>Beaufort Sea</dd><dt><span>time_coverage_start :</span></dt><dd>2014-07-31T15:33Z</dd><dt><span>time_coverage_end :</span></dt><dd>2014-08-07T21:36Z</dd><dt><span>time_coverage_resolution :</span></dt><dd>point</dd><dt><span>geospatial_lat_min :</span></dt><dd>69.85</dd><dt><span>geospatial_lat_max :</span></dt><dd>71.48</dd><dt><span>geospatial_lat_units :</span></dt><dd>degrees_north</dd><dt><span>geospatial_lat_resolution :</span></dt><dd>point</dd><dt><span>geospatial_lon_min :</span></dt><dd>-152.58</dd><dt><span>geospatial_lon_max :</span></dt><dd>-141.71</dd><dt><span>geospatial_lon_units :</span></dt><dd>degrees_east</dd><dt><span>geospatial_lon_resolution :</span></dt><dd>point</dd><dt><span>institution :</span></dt><dd>University of Alaska Fairbanks</dd><dt><span>creator_name :</span></dt><dd>Jeremy Kasper</dd><dt><span>creator_url :</span></dt><dd>http://ine.uaf.edu/people/researchers/jeremy-kasper/</dd><dt><span>creator_email :</span></dt><dd>jlkasper@alaska.edu</dd><dt><span>project :</span></dt><dd>ANIMIDA III</dd><dt><span>keywords_vocabulary :</span></dt><dd>GCMD Science Keywords Version 8.1</dd><dt><span>keywords :</span></dt><dd>OCEAN TEMPERATURE,SALINITY,TURBIDITY,WATER PRESSURE,FLUORESCENCE,PHOTOSYNTHETICALLY ACTIVE RADIATION</dd><dt><span>acknowledgement :</span></dt><dd>Kasper, J., CTD measurements collected from seawater for ANIMIDA III in 2014</dd><dt><span>publisher_name :</span></dt><dd>Tim Whiteaker</dd><dt><span>publisher_email :</span></dt><dd>whiteaker@utexas.edu</dd><dt><span>publisher_url :</span></dt><dd>http://arcticstudies.org/animida_iii</dd><dt><span>license :</span></dt><dd>Creative Commons Attribution 3.0 United States (CC BY 3.0 US) license - https://creativecommons.org/licenses/by/3.0/us/</dd></dl></div></li></ul></div></div>"
      ],
      "text/plain": [
       "<xarray.Dataset>\n",
       "Dimensions:              (nzmax: 1587, profile: 57)\n",
       "Coordinates:\n",
       "    time                 (profile) datetime64[ns] 2014-08-07T02:02:34.0000028...\n",
       "    lat                  (profile) float64 71.27 71.23 71.18 ... 70.45 70.46\n",
       "    lon                  (profile) float64 -152.2 -152.3 ... -145.8 -145.8\n",
       "    pressure             (profile, nzmax) float64 2.187 2.399 ... -9.999e+03\n",
       "Dimensions without coordinates: nzmax, profile\n",
       "Data variables:\n",
       "    station_name         (profile) |S12 b'1.01        ' ... b'T-XA        '\n",
       "    sal                  (profile, nzmax) float64 24.85 24.85 ... -9.999e+03\n",
       "    tem                  (profile, nzmax) float64 1.625 1.589 ... -9.999e+03\n",
       "    fluoro               (profile, nzmax) float64 0.6842 0.7452 ... -9.999e+03\n",
       "    turbidity            (profile, nzmax) float64 0.604 0.6895 ... -9.999e+03\n",
       "    PAR                  (profile, nzmax) float64 9.596 9.097 ... -9.999e+03\n",
       "    platform_variable    float64 9.969e+36\n",
       "    instrument_variable  float64 9.969e+36\n",
       "    crs                  float64 9.969e+36\n",
       "Attributes: (12/35)\n",
       "    Conventions:                CF-1.6\n",
       "    Metadata_Conventions:       Unidata Dataset Discovery v1.0\n",
       "    featureType:                profile\n",
       "    cdm_data_type:              Station\n",
       "    nodc_template_version:      NODC_NetCDF_Profile_Incomplete_Templete_v1.1\n",
       "    standard_name_vocabulary:   NetCDF Climate and Forecast(CF) Metadata Conv...\n",
       "    ...                         ...\n",
       "    keywords:                   OCEAN TEMPERATURE,SALINITY,TURBIDITY,WATER PR...\n",
       "    acknowledgement:            Kasper, J., CTD measurements collected from s...\n",
       "    publisher_name:             Tim Whiteaker\n",
       "    publisher_email:            whiteaker@utexas.edu\n",
       "    publisher_url:              http://arcticstudies.org/animida_iii\n",
       "    license:                    Creative Commons Attribution 3.0 United State..."
      ]
     },
     "execution_count": 39,
     "metadata": {},
     "output_type": "execute_result"
    }
   ],
   "source": [
    "data.data[0]()['ANIMctd14.nc'] "
   ]
  },
  {
   "cell_type": "code",
   "execution_count": 40,
   "id": "4c428160-efb4-41f7-9bb5-c7395f8aec4f",
   "metadata": {},
   "outputs": [
    {
     "data": {
      "text/html": [
       "<div>\n",
       "<style scoped>\n",
       "    .dataframe tbody tr th:only-of-type {\n",
       "        vertical-align: middle;\n",
       "    }\n",
       "\n",
       "    .dataframe tbody tr th {\n",
       "        vertical-align: top;\n",
       "    }\n",
       "\n",
       "    .dataframe thead th {\n",
       "        text-align: right;\n",
       "    }\n",
       "</style>\n",
       "<table border=\"1\" class=\"dataframe\">\n",
       "  <thead>\n",
       "    <tr style=\"text-align: right;\">\n",
       "      <th></th>\n",
       "      <th>time</th>\n",
       "      <th>latitude</th>\n",
       "      <th>longitude</th>\n",
       "      <th>water_depth</th>\n",
       "      <th>Conductivity_[S/m]</th>\n",
       "      <th>Pressure_[db]</th>\n",
       "      <th>Temperature_ITS90_[deg C]</th>\n",
       "      <th>Salinity_Practical_[PSU]</th>\n",
       "      <th>Voltage0_[volts]</th>\n",
       "      <th>Instrument_Time_[juliandays]</th>\n",
       "      <th>flag</th>\n",
       "    </tr>\n",
       "  </thead>\n",
       "  <tbody>\n",
       "    <tr>\n",
       "      <th>0</th>\n",
       "      <td>2014-08-01T12:00:05Z</td>\n",
       "      <td>70.6349</td>\n",
       "      <td>-150.237</td>\n",
       "      <td>13.0</td>\n",
       "      <td>2.495646</td>\n",
       "      <td>12.687</td>\n",
       "      <td>-1.4619</td>\n",
       "      <td>31.0905</td>\n",
       "      <td>0.3091</td>\n",
       "      <td>213.500058</td>\n",
       "      <td>0.0</td>\n",
       "    </tr>\n",
       "    <tr>\n",
       "      <th>1</th>\n",
       "      <td>2014-08-01T13:00:05Z</td>\n",
       "      <td>70.6349</td>\n",
       "      <td>-150.237</td>\n",
       "      <td>13.0</td>\n",
       "      <td>2.495454</td>\n",
       "      <td>12.699</td>\n",
       "      <td>-1.4595</td>\n",
       "      <td>31.0854</td>\n",
       "      <td>0.3265</td>\n",
       "      <td>213.541725</td>\n",
       "      <td>0.0</td>\n",
       "    </tr>\n",
       "    <tr>\n",
       "      <th>...</th>\n",
       "      <td>...</td>\n",
       "      <td>...</td>\n",
       "      <td>...</td>\n",
       "      <td>...</td>\n",
       "      <td>...</td>\n",
       "      <td>...</td>\n",
       "      <td>...</td>\n",
       "      <td>...</td>\n",
       "      <td>...</td>\n",
       "      <td>...</td>\n",
       "      <td>...</td>\n",
       "    </tr>\n",
       "    <tr>\n",
       "      <th>8945</th>\n",
       "      <td>2015-08-09T05:00:05Z</td>\n",
       "      <td>70.6349</td>\n",
       "      <td>-150.237</td>\n",
       "      <td>13.0</td>\n",
       "      <td>2.591448</td>\n",
       "      <td>12.777</td>\n",
       "      <td>0.3619</td>\n",
       "      <td>30.5086</td>\n",
       "      <td>0.3873</td>\n",
       "      <td>586.208391</td>\n",
       "      <td>0.0</td>\n",
       "    </tr>\n",
       "    <tr>\n",
       "      <th>8946</th>\n",
       "      <td>2015-08-09T06:00:05Z</td>\n",
       "      <td>70.6349</td>\n",
       "      <td>-150.237</td>\n",
       "      <td>13.0</td>\n",
       "      <td>2.585462</td>\n",
       "      <td>12.754</td>\n",
       "      <td>0.2862</td>\n",
       "      <td>30.5062</td>\n",
       "      <td>0.2441</td>\n",
       "      <td>586.250058</td>\n",
       "      <td>0.0</td>\n",
       "    </tr>\n",
       "  </tbody>\n",
       "</table>\n",
       "<p>8947 rows × 11 columns</p>\n",
       "</div>"
      ],
      "text/plain": [
       "                      time  latitude  longitude  water_depth  \\\n",
       "0     2014-08-01T12:00:05Z   70.6349   -150.237         13.0   \n",
       "1     2014-08-01T13:00:05Z   70.6349   -150.237         13.0   \n",
       "...                    ...       ...        ...          ...   \n",
       "8945  2015-08-09T05:00:05Z   70.6349   -150.237         13.0   \n",
       "8946  2015-08-09T06:00:05Z   70.6349   -150.237         13.0   \n",
       "\n",
       "      Conductivity_[S/m]  Pressure_[db]  Temperature_ITS90_[deg C]  \\\n",
       "0               2.495646         12.687                    -1.4619   \n",
       "1               2.495454         12.699                    -1.4595   \n",
       "...                  ...            ...                        ...   \n",
       "8945            2.591448         12.777                     0.3619   \n",
       "8946            2.585462         12.754                     0.2862   \n",
       "\n",
       "      Salinity_Practical_[PSU]  Voltage0_[volts]  \\\n",
       "0                      31.0905            0.3091   \n",
       "1                      31.0854            0.3265   \n",
       "...                        ...               ...   \n",
       "8945                   30.5086            0.3873   \n",
       "8946                   30.5062            0.2441   \n",
       "\n",
       "      Instrument_Time_[juliandays]  flag  \n",
       "0                       213.500058   0.0  \n",
       "1                       213.541725   0.0  \n",
       "...                            ...   ...  \n",
       "8945                    586.208391   0.0  \n",
       "8946                    586.250058   0.0  \n",
       "\n",
       "[8947 rows x 11 columns]"
      ]
     },
     "execution_count": 40,
     "metadata": {},
     "output_type": "execute_result"
    }
   ],
   "source": [
    "data.data[0]()['SBE16plus_01604787_2015_08_09_final.csv']"
   ]
  }
 ],
 "metadata": {
  "kernelspec": {
   "display_name": "Python 3",
   "language": "python",
   "name": "python3"
  },
  "language_info": {
   "codemirror_mode": {
    "name": "ipython",
    "version": 3
   },
   "file_extension": ".py",
   "mimetype": "text/x-python",
   "name": "python",
   "nbconvert_exporter": "python",
   "pygments_lexer": "ipython3",
   "version": "3.9.5"
  }
 },
 "nbformat": 4,
 "nbformat_minor": 5
}
